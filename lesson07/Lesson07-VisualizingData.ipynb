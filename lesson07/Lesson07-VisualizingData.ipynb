{
 "cells": [
  {
   "cell_type": "code",
   "execution_count": null,
   "metadata": {
    "slideshow": {
     "slide_type": "skip"
    }
   },
   "outputs": [],
   "source": [
    "# ignore the commands below; these just make sure plots fit on the screen\n",
    "library('repr')\n",
    "options(repr.plot.width=3, repr.plot.height=3)"
   ]
  },
  {
   "cell_type": "markdown",
   "metadata": {
    "slideshow": {
     "slide_type": "slide"
    }
   },
   "source": [
    "# Lesson 7: Visualizing Data\n",
    "\n",
    "Today:\n",
    "1. More on bar plots and histograms\n",
    "    + Bar plots with proportion on the y-axis\n",
    "    + Understanding histograms with unequal bin width\n",
    "    + Understanding histograms with density on the y-axis\n",
    "2. Visualizing grouped datasets\n",
    "3. Miscellaneous tweaks!"
   ]
  },
  {
   "cell_type": "code",
   "execution_count": 1,
   "metadata": {
    "scrolled": true,
    "slideshow": {
     "slide_type": "subslide"
    }
   },
   "outputs": [
    {
     "data": {
      "text/html": [
       "<table>\n",
       "<thead><tr><th scope=col>Name</th><th scope=col>Species</th><th scope=col>Weight_lb</th><th scope=col>Age</th></tr></thead>\n",
       "<tbody>\n",
       "\t<tr><td>Alex  </td><td>Cat   </td><td> 25   </td><td>8     </td></tr>\n",
       "\t<tr><td>Bert  </td><td>Cat   </td><td> 15   </td><td>3     </td></tr>\n",
       "\t<tr><td>Cate  </td><td>Dog   </td><td>100   </td><td>4     </td></tr>\n",
       "\t<tr><td>Doug  </td><td>Cat   </td><td> 20   </td><td>3     </td></tr>\n",
       "\t<tr><td>Evan  </td><td>Dog   </td><td> 20   </td><td>1     </td></tr>\n",
       "\t<tr><td>Finn  </td><td>Rabbit</td><td>  4   </td><td>2     </td></tr>\n",
       "</tbody>\n",
       "</table>\n"
      ],
      "text/latex": [
       "\\begin{tabular}{r|llll}\n",
       " Name & Species & Weight\\_lb & Age\\\\\n",
       "\\hline\n",
       "\t Alex   & Cat    &  25    & 8     \\\\\n",
       "\t Bert   & Cat    &  15    & 3     \\\\\n",
       "\t Cate   & Dog    & 100    & 4     \\\\\n",
       "\t Doug   & Cat    &  20    & 3     \\\\\n",
       "\t Evan   & Dog    &  20    & 1     \\\\\n",
       "\t Finn   & Rabbit &   4    & 2     \\\\\n",
       "\\end{tabular}\n"
      ],
      "text/markdown": [
       "\n",
       "| Name | Species | Weight_lb | Age |\n",
       "|---|---|---|---|\n",
       "| Alex   | Cat    |  25    | 8      |\n",
       "| Bert   | Cat    |  15    | 3      |\n",
       "| Cate   | Dog    | 100    | 4      |\n",
       "| Doug   | Cat    |  20    | 3      |\n",
       "| Evan   | Dog    |  20    | 1      |\n",
       "| Finn   | Rabbit |   4    | 2      |\n",
       "\n"
      ],
      "text/plain": [
       "  Name Species Weight_lb Age\n",
       "1 Alex Cat      25       8  \n",
       "2 Bert Cat      15       3  \n",
       "3 Cate Dog     100       4  \n",
       "4 Doug Cat      20       3  \n",
       "5 Evan Dog      20       1  \n",
       "6 Finn Rabbit    4       2  "
      ]
     },
     "metadata": {},
     "output_type": "display_data"
    }
   ],
   "source": [
    "# class starter\n",
    "# do not modify this cell\n",
    "my_pets <- data.frame( Name = c('Alex', 'Bert', 'Cate', 'Doug', 'Evan', 'Finn', 'Gregor', 'Hummus', 'Iliad', 'Jamal') ,\n",
    "                       Species = c('Cat', 'Cat', 'Dog', 'Cat', 'Dog', 'Rabbit', 'Rabbit', 'Rabbit', 'Rabbit', 'Rabbit' ),\n",
    "                       Weight_lb = c(25, 15, 100, 20, 20, 4, 2, 5, 3, 1),\n",
    "                       Age = c( 8.5, 3.9, 4.1, 3, 0.7, 2.5, 1.5, 3.1, 2.9, 2.2 ),\n",
    "                       Spayed_Neutered = c( TRUE, FALSE, TRUE, TRUE, FALSE, TRUE, FALSE, FALSE, TRUE, TRUE  )\n",
    "                     )\n",
    "\n",
    "my_pets"
   ]
  },
  {
   "cell_type": "code",
   "execution_count": null,
   "metadata": {},
   "outputs": [],
   "source": []
  },
  {
   "cell_type": "code",
   "execution_count": null,
   "metadata": {
    "slideshow": {
     "slide_type": "subslide"
    }
   },
   "outputs": [],
   "source": []
  },
  {
   "cell_type": "markdown",
   "metadata": {
    "slideshow": {
     "slide_type": "slide"
    }
   },
   "source": [
    "## 1.1. Bar plots with proportion on the y-axis\n",
    "\n",
    "We can also create a bar plot where \n",
    "+ the x-axis corresponds to the variable/column, \n",
    "+ the **y-axis (the height of the bar)** is **how many observations** belong to that group (in the case of bar plots) or bin (in the case of histograms).\n",
    "\n",
    "To create bar plots with **proportion** in the y-axis:\n",
    "    \n",
    "        ggplot( DATAFRAMENAME , aes( x = COLUMNNAME, y = ..prop.., group = 1 ) ) + geom_bar()"
   ]
  },
  {
   "cell_type": "markdown",
   "metadata": {
    "slideshow": {
     "slide_type": "subslide"
    }
   },
   "source": [
    "**Exercise**\n",
    "\n",
    "Create a bar plot for the `Spayed_Neutered` column, with proportion on the y-axis "
   ]
  },
  {
   "cell_type": "markdown",
   "metadata": {
    "slideshow": {
     "slide_type": "subslide"
    }
   },
   "source": []
  },
  {
   "cell_type": "code",
   "execution_count": null,
   "metadata": {
    "slideshow": {
     "slide_type": "-"
    }
   },
   "outputs": [],
   "source": [
    "\n"
   ]
  },
  {
   "cell_type": "markdown",
   "metadata": {
    "slideshow": {
     "slide_type": "subslide"
    }
   },
   "source": []
  },
  {
   "cell_type": "markdown",
   "metadata": {
    "slideshow": {
     "slide_type": "slide"
    }
   },
   "source": [
    "## 1.2. Understanding histograms with density on the y-axis\n",
    "\n",
    "\n",
    "To create histograms with density on the y-axis:\n",
    "\n",
    "    ggplot( DATAFRAMENAME , aes( x = COLUMNNAME, y = ..density.. ) ) + geom_histogram()\n",
    "    \n"
   ]
  },
  {
   "cell_type": "markdown",
   "metadata": {
    "slideshow": {
     "slide_type": "subslide"
    }
   },
   "source": [
    "**Exercise**\n",
    "\n",
    "Create a bar plot for the `Age` column, with proportion on the y-axis "
   ]
  },
  {
   "cell_type": "code",
   "execution_count": null,
   "metadata": {
    "slideshow": {
     "slide_type": "subslide"
    }
   },
   "outputs": [],
   "source": []
  },
  {
   "cell_type": "code",
   "execution_count": null,
   "metadata": {},
   "outputs": [],
   "source": []
  },
  {
   "cell_type": "code",
   "execution_count": null,
   "metadata": {
    "slideshow": {
     "slide_type": "subslide"
    }
   },
   "outputs": [],
   "source": []
  },
  {
   "cell_type": "markdown",
   "metadata": {
    "slideshow": {
     "slide_type": "slide"
    }
   },
   "source": [
    "## 1.3. Understanding histograms with unequal bin widths\n",
    "\n",
    "\n",
    "Sometimes, it makes sense to create a histogram where the width of the bins are not necessarily equal.\n",
    "\n",
    "**Example**\n",
    "\n",
    "<table>\n",
    "    <tr> \n",
    "        <th>Name</th>\n",
    "        <th>Species</th>\n",
    "        <th>Weight_lb</th>\n",
    "        <th>Age</th>\n",
    "        <th>Spayed_Neutered</th>\n",
    "    </tr>\n",
    "    <tr>\n",
    "        <td>Alex</td>\n",
    "        <td>Cat</td>\n",
    "        <td>25</td>\n",
    "        <td>8.5</td>\n",
    "        <td>TRUE</td>\n",
    "    </tr>\n",
    "    <tr>\n",
    "        <td>Bert</td>\n",
    "        <td>Cat</td>\n",
    "        <td>15</td>\n",
    "        <td>3.9</td>\n",
    "        <td>FALSE</td>\n",
    "    </tr>\n",
    "    <tr>\n",
    "        <td>Cate</td>\n",
    "        <td>Dog</td>\n",
    "        <td>100</td>\n",
    "        <td>4.1</td>\n",
    "        <td>TRUE</td>\n",
    "    </tr>\n",
    "    <tr>\n",
    "        <td>Doug</td>\n",
    "        <td>Cat</td>\n",
    "        <td>20</td>\n",
    "        <td>3</td>\n",
    "        <td>TRUE</td>\n",
    "    </tr>\n",
    "    <tr>\n",
    "        <td>Evan</td>\n",
    "        <td>Dog</td>\n",
    "        <td>20</td>\n",
    "        <td>0.7</td>\n",
    "        <td>FALSE</td>\n",
    "    </tr>\n",
    "    <tr>\n",
    "        <td>Finn</td>\n",
    "        <td>Rabbit</td>\n",
    "        <td>4</td>\n",
    "        <td>2.5</td>\n",
    "        <td>TRUE</td>\n",
    "    </tr>\n",
    "    <tr>\n",
    "        <td>Gregor</td>\n",
    "        <td>Rabbit</td>\n",
    "        <td>2</td>\n",
    "        <td>1.5</td>\n",
    "        <td>FALSE</td>\n",
    "    </tr>\n",
    "    <tr>\n",
    "        <td>Hummus</td>\n",
    "        <td>Rabbit</td>\n",
    "        <td>5</td>\n",
    "        <td>3.1</td>\n",
    "        <td>FALSE</td>\n",
    "    </tr>\n",
    "    <tr>\n",
    "        <td>Iliad</td>\n",
    "        <td>Rabbit</td>\n",
    "        <td>3</td>\n",
    "        <td>2.9</td>\n",
    "        <td>TRUE</td>\n",
    "    </tr>\n",
    "    <tr>\n",
    "        <td>Jamal</td>\n",
    "        <td>Rabbit</td>\n",
    "        <td>1</td>\n",
    "        <td>2.2</td>\n",
    "        <td>TRUE</td>\n",
    "    </tr>\n",
    "</table>"
   ]
  },
  {
   "cell_type": "markdown",
   "metadata": {
    "slideshow": {
     "slide_type": "subslide"
    }
   },
   "source": [
    "We can specify the bins by specifying the \"breaks\"/endpoints between the bins:\n",
    "    \n",
    "    ggplot( DATAFRAMENAME, aes( x = COLUMNNAME ) ) + geom_histogram( breaks = LISTOFBINENDPOINTS )"
   ]
  },
  {
   "cell_type": "code",
   "execution_count": null,
   "metadata": {},
   "outputs": [],
   "source": [
    "# plot histogram for the Weight_lb columns, with 3 bins\n"
   ]
  },
  {
   "cell_type": "code",
   "execution_count": null,
   "metadata": {
    "slideshow": {
     "slide_type": "subslide"
    }
   },
   "outputs": [],
   "source": []
  },
  {
   "cell_type": "code",
   "execution_count": null,
   "metadata": {
    "slideshow": {
     "slide_type": "subslide"
    }
   },
   "outputs": [],
   "source": [
    "\n",
    "\n"
   ]
  },
  {
   "cell_type": "code",
   "execution_count": null,
   "metadata": {
    "slideshow": {
     "slide_type": "subslide"
    }
   },
   "outputs": [],
   "source": [
    "\n"
   ]
  },
  {
   "cell_type": "code",
   "execution_count": null,
   "metadata": {},
   "outputs": [],
   "source": []
  },
  {
   "cell_type": "markdown",
   "metadata": {
    "slideshow": {
     "slide_type": "slide"
    }
   },
   "source": [
    "# 2. Visualizing grouped data"
   ]
  },
  {
   "cell_type": "markdown",
   "metadata": {
    "slideshow": {
     "slide_type": "subslide"
    }
   },
   "source": [
    "We are done with the basics of data visualization!\n",
    "\n",
    "The most important key goals is for us to be able to:\n",
    "+ interpret information from a given data visualization\n",
    "+ construct an appropriate data visualization for a given variable(s)\n",
    "    + understand the meaning of proportion and density in bar plots and histograms, including histograms with unequal bin width"
   ]
  },
  {
   "cell_type": "markdown",
   "metadata": {
    "slideshow": {
     "slide_type": "subslide"
    }
   },
   "source": [
    "There are a lot of other tweaks you can put to your basic ggplot commands.  You won't have to memorize these for the exam, but you are encouraged to use them in your projects.\n",
    "\n",
    "(This class is in fact NEVER about memorization, and our exam will reflect that.  We are about understanding ideas and understanding how to use computational tools to help us reason and work with data.)"
   ]
  },
  {
   "cell_type": "markdown",
   "metadata": {
    "slideshow": {
     "slide_type": "subslide"
    }
   },
   "source": [
    "## 2.1. Grouped Scatterplots\n",
    "\n",
    "Suppose that we would like to create a scatterplot where the shape or color of each point corresponds to a group within a categorical variable.\n",
    "\n",
    "    ggplot( DATAFRAMENAME , aes(x = NUMERICALVAR1, y = NUMERICALVAR2, color = CATEGORICALVAR )) + geom_point( )\n",
    "    \n",
    "    ggplot( DATAFRAMENAME , aes(x = NUMERICALVAR1, y = NUMERICALVAR2, shape = CATEGORICALVAR )) + geom_point( )"
   ]
  },
  {
   "cell_type": "code",
   "execution_count": null,
   "metadata": {
    "slideshow": {
     "slide_type": "subslide"
    }
   },
   "outputs": [],
   "source": [
    "\n",
    "\n",
    "\n"
   ]
  },
  {
   "cell_type": "markdown",
   "metadata": {
    "slideshow": {
     "slide_type": "subslide"
    }
   },
   "source": [
    "## 2.2. Grouped bar plot\n",
    "\n",
    "Suppose that we would like to visualize the distribution of a categorical variable, while breakingdown each bar based on a second categorical variable.\n",
    "\n",
    "    ggplot( my_pets_new, aes(x = Species, fill = Spayed_Neutered)) + geom_bar( )\n",
    "    \n",
    "    ggplot( my_pets_new, aes(x = Species, fill = Spayed_Neutered)) + geom_bar( position='dodge' )\n",
    "\n",
    "**Example**"
   ]
  },
  {
   "cell_type": "code",
   "execution_count": null,
   "metadata": {
    "slideshow": {
     "slide_type": "subslide"
    }
   },
   "outputs": [],
   "source": [
    "ggplot( my_pets_new, aes(x = Species , fill = Spayed_Neutered   )) + geom_bar(  )"
   ]
  },
  {
   "cell_type": "code",
   "execution_count": null,
   "metadata": {
    "slideshow": {
     "slide_type": "subslide"
    }
   },
   "outputs": [],
   "source": [
    "ggplot( my_pets_new, aes(x = Species   )) + geom_bar(  )"
   ]
  },
  {
   "cell_type": "markdown",
   "metadata": {
    "slideshow": {
     "slide_type": "subslide"
    }
   },
   "source": [
    "## 2.3. Other `ggplot` tweaks\n",
    "\n",
    "### Controling color, shape, size of points in scatterplots\n",
    "\n",
    "    ggplot( DATAFRAMENAME, aes(x = NUMERICALVAR1, y = NUMERICALVAR2 )) \n",
    "    + geom_point( shape = SHAPENUMBER , color = COLORNAME, size = SIZENUMBER )"
   ]
  },
  {
   "cell_type": "code",
   "execution_count": null,
   "metadata": {},
   "outputs": [],
   "source": [
    "# Example\n",
    "\n",
    "ggplot( my_pets_new, aes( x = Weight_lb, y = Age )) + geom_point(   )"
   ]
  },
  {
   "cell_type": "markdown",
   "metadata": {
    "slideshow": {
     "slide_type": "subslide"
    }
   },
   "source": [
    "### Controling filled color in bar plots\n",
    "\n",
    "    ggplot( DATAFRAMENAME, aes(x = CATEGORICALVAR )) \n",
    "    + geom_bars( fill = COLORNAME )"
   ]
  },
  {
   "cell_type": "code",
   "execution_count": null,
   "metadata": {},
   "outputs": [],
   "source": [
    "ggplot( my_pets_new, aes( x = Species )) + geom_bar( fill = 'blue'  )"
   ]
  },
  {
   "cell_type": "markdown",
   "metadata": {
    "slideshow": {
     "slide_type": "subslide"
    }
   },
   "source": [
    "There are many others.  If you want to figure out how to tweak a ggplot visualization in a particular way, there is (most likely) a way to do it---google it!"
   ]
  },
  {
   "cell_type": "markdown",
   "metadata": {},
   "source": [
    "## Other tweaks: Displaying histogram informations (bin endpoints; bin height; bin areas)\n",
    "\n",
    "There were questions during class on how one can display more information on histograms (and on other types of visualizations in general).\n",
    "\n",
    "I will add examples for how to do these below.  Everything below is completely optional for you to know/use."
   ]
  },
  {
   "cell_type": "code",
   "execution_count": null,
   "metadata": {},
   "outputs": [],
   "source": []
  }
 ],
 "metadata": {
  "celltoolbar": "Slideshow",
  "kernelspec": {
   "display_name": "R",
   "language": "R",
   "name": "ir"
  },
  "language_info": {
   "codemirror_mode": "r",
   "file_extension": ".r",
   "mimetype": "text/x-r-source",
   "name": "R",
   "pygments_lexer": "r",
   "version": "3.6.1"
  }
 },
 "nbformat": 4,
 "nbformat_minor": 2
}
