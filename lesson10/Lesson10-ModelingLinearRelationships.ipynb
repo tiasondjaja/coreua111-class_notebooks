{
 "cells": [
  {
   "cell_type": "code",
   "execution_count": null,
   "metadata": {
    "slideshow": {
     "slide_type": "skip"
    }
   },
   "outputs": [],
   "source": [
    "# load the packages\n",
    "library('ggplot2')\n",
    "library('dplyr')\n",
    "\n",
    "# ignore the commands below; these just make sure plots fit on the screen\n",
    "library('repr')\n",
    "options(repr.plot.width=3, repr.plot.height=3)"
   ]
  },
  {
   "cell_type": "markdown",
   "metadata": {
    "slideshow": {
     "slide_type": "slide"
    }
   },
   "source": [
    "# Lesson 10: Modeling Linear Relationships\n",
    "\n",
    "Today:\n",
    "1. Models: Big Pictures\n",
    "    + Regression vs. Classification\n",
    "2. Modeling linear relationships\n",
    "    + Correlation coefficient: quantifying the strength of linear relationships\n",
    "    + Measuring distance between data and models\n",
    "    + Linear regression: finding the best-fit line with R\n",
    "    + Plotting linear regression lines: with R\n"
   ]
  },
  {
   "cell_type": "markdown",
   "metadata": {
    "slideshow": {
     "slide_type": "subslide"
    }
   },
   "source": [
    "## 2. Modeling Linear Relationships\n",
    "\n",
    "### Quantifying the strength of linear relationships\n",
    "\n",
    "#### Examples"
   ]
  },
  {
   "cell_type": "code",
   "execution_count": null,
   "metadata": {},
   "outputs": [],
   "source": [
    "# from last class: \n",
    "# baby weight vs. gestation period\n",
    "babyweight <- read.csv('../../shared/datasets/babyweight.csv')\n",
    "\n",
    "\n",
    "\n",
    "ggplot( babyweight, aes(x =    , y =    )) + ..."
   ]
  },
  {
   "cell_type": "code",
   "execution_count": null,
   "metadata": {},
   "outputs": [],
   "source": [
    "# top2019\n",
    "top2019 <- read.csv('../../shared/datasets/top2019.csv')\n",
    "\n",
    "# pick two of the numerical variables\n",
    "#   create a scatterplot\n",
    "\n",
    "\n",
    "\n"
   ]
  },
  {
   "cell_type": "code",
   "execution_count": null,
   "metadata": {},
   "outputs": [],
   "source": []
  },
  {
   "cell_type": "markdown",
   "metadata": {
    "slideshow": {
     "slide_type": "subslide"
    }
   },
   "source": [
    "### Linear Regression with R"
   ]
  },
  {
   "cell_type": "markdown",
   "metadata": {
    "slideshow": {
     "slide_type": "subslide"
    }
   },
   "source": [
    "#### Plotting the line with smallest MSE, in R\n",
    "\n",
    "We use the `ggplot()` with `geom_smooth()`:\n",
    "\n",
    "    ggplot( DATAFRAMENAME, aes( x = XVARIABLENAME, y = YVARIABLENAME) ) + \n",
    "      geom_point() + \n",
    "      geom_smooth( method = 'lm', formula = 'y~x')"
   ]
  },
  {
   "cell_type": "markdown",
   "metadata": {},
   "source": [
    "####  Example\n",
    "Let's fine the best fitting line for our small dataset above with 4 points:"
   ]
  },
  {
   "cell_type": "code",
   "execution_count": null,
   "metadata": {},
   "outputs": [],
   "source": [
    "# don't modify above the line\n",
    "#   here, we're creating a small data frame \"by hand\"\n",
    "#   (don't worry about this detail)\n",
    "small_dataset <- data.frame( X = c(0, 1, 2, 3), \n",
    "                             Y = c( 1, 2, 6, 7))\n",
    "\n",
    "#-----\n",
    "\n",
    "small_dataset"
   ]
  },
  {
   "cell_type": "code",
   "execution_count": null,
   "metadata": {},
   "outputs": [],
   "source": [
    "# plot of best-fitting line\n",
    "ggplot( )"
   ]
  },
  {
   "cell_type": "markdown",
   "metadata": {
    "slideshow": {
     "slide_type": "subslide"
    }
   },
   "source": [
    "#### Example\n",
    "\n",
    "Suppose we have data on a heights (in inches) and weights (in pounds) of some randomly selected sample of the population.  \n",
    "\n",
    "We would like to model the linear relationship between heights and weights, by finding the best-fitting line."
   ]
  },
  {
   "cell_type": "code",
   "execution_count": null,
   "metadata": {
    "scrolled": true,
    "slideshow": {
     "slide_type": "subslide"
    }
   },
   "outputs": [],
   "source": [
    "sampledata <- read.csv('../../shared/datasets/sampledata.csv')"
   ]
  },
  {
   "cell_type": "code",
   "execution_count": null,
   "metadata": {},
   "outputs": [],
   "source": [
    "\n",
    "\n"
   ]
  },
  {
   "cell_type": "code",
   "execution_count": null,
   "metadata": {
    "scrolled": true,
    "slideshow": {
     "slide_type": "subslide"
    }
   },
   "outputs": [],
   "source": [
    "\n",
    "\n"
   ]
  },
  {
   "cell_type": "code",
   "execution_count": null,
   "metadata": {},
   "outputs": [],
   "source": []
  },
  {
   "cell_type": "markdown",
   "metadata": {
    "slideshow": {
     "slide_type": "subslide"
    }
   },
   "source": [
    "#### Example\n",
    "\n",
    "Find the best-fitting line between the `Gest` variable and the `Wgt` variable in the `babyweight` dataset."
   ]
  },
  {
   "cell_type": "code",
   "execution_count": null,
   "metadata": {
    "scrolled": true,
    "slideshow": {
     "slide_type": "subslide"
    }
   },
   "outputs": [],
   "source": [
    "head(babyweight)"
   ]
  },
  {
   "cell_type": "code",
   "execution_count": null,
   "metadata": {},
   "outputs": [],
   "source": [
    "\n",
    "\n"
   ]
  },
  {
   "cell_type": "markdown",
   "metadata": {
    "slideshow": {
     "slide_type": "subslide"
    }
   },
   "source": [
    "### Finding the equation of the line with smallest MSE, in R\n",
    "\n",
    "We use the `lm()` function:\n",
    "\n",
    "    OUTPUTNAME <- lm( formula = YVARIABLENAME ~ XVARIABLENAME, data = DATAFRAMENAME) "
   ]
  },
  {
   "cell_type": "markdown",
   "metadata": {
    "slideshow": {
     "slide_type": "fragment"
    }
   },
   "source": [
    "+ input: data, formula\n",
    "+ outputs: \n",
    "    + `OUTPUTNAME$coefficients[1]`: the y-intercept of the best fit line\n",
    "    + `OUTPUTNAME$coefficients[2]`: the slope of the best fit line\n",
    "    + `OUTPUTNAME$residuals`: a list containing the errors between actual y values (data points) and predicted y values"
   ]
  },
  {
   "cell_type": "markdown",
   "metadata": {},
   "source": [
    "#### Example\n",
    "\n",
    "Find the equation for the best-fitting line between the `Gest` variable and the `Wgt` variable in the `babyweight` dataset."
   ]
  },
  {
   "cell_type": "code",
   "execution_count": null,
   "metadata": {
    "scrolled": true,
    "slideshow": {
     "slide_type": "fragment"
    }
   },
   "outputs": [],
   "source": [
    "\n",
    "\n",
    "\n"
   ]
  },
  {
   "cell_type": "code",
   "execution_count": null,
   "metadata": {},
   "outputs": [],
   "source": [
    "\n",
    "\n",
    "\n"
   ]
  },
  {
   "cell_type": "code",
   "execution_count": null,
   "metadata": {},
   "outputs": [],
   "source": [
    "\n",
    "\n",
    "\n"
   ]
  },
  {
   "cell_type": "code",
   "execution_count": null,
   "metadata": {},
   "outputs": [],
   "source": [
    "\n",
    "\n"
   ]
  },
  {
   "cell_type": "markdown",
   "metadata": {},
   "source": [
    "**Exercise** \n",
    "\n",
    "Recall the `sampledata` dataset (whose plot is reproduced below).  Find the equation of the best-fit line."
   ]
  },
  {
   "cell_type": "code",
   "execution_count": null,
   "metadata": {},
   "outputs": [],
   "source": [
    "\n"
   ]
  },
  {
   "cell_type": "code",
   "execution_count": null,
   "metadata": {},
   "outputs": [],
   "source": [
    "\n",
    "\n",
    "\n"
   ]
  }
 ],
 "metadata": {
  "celltoolbar": "Slideshow",
  "kernelspec": {
   "display_name": "R",
   "language": "R",
   "name": "ir"
  },
  "language_info": {
   "codemirror_mode": "r",
   "file_extension": ".r",
   "mimetype": "text/x-r-source",
   "name": "R",
   "pygments_lexer": "r",
   "version": "3.6.1"
  }
 },
 "nbformat": 4,
 "nbformat_minor": 2
}
