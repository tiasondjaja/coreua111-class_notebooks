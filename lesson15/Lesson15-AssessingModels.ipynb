{
 "cells": [
  {
   "cell_type": "code",
   "execution_count": null,
   "metadata": {
    "slideshow": {
     "slide_type": "subslide"
    }
   },
   "outputs": [],
   "source": [
    "# load the packages\n",
    "library('ggplot2')\n",
    "library('dplyr')\n",
    "\n",
    "# ignore the commands below; these just make sure plots fit on the screen\n",
    "library('repr')\n",
    "options(repr.plot.width=3, repr.plot.height=3)"
   ]
  },
  {
   "cell_type": "markdown",
   "metadata": {
    "slideshow": {
     "slide_type": "slide"
    }
   },
   "source": [
    "# Lesson 15: Assessing Your Models\n",
    "\n",
    "Today:\n",
    "1. Assessing your models\n",
    "    + Accuracy\n",
    "    + Other ways to measure goodness of models\n",
    "    + Improving your models\n",
    "        + Incorporating more features\n",
    "        + k-Nearest Neighbor Classifiers"
   ]
  },
  {
   "cell_type": "markdown",
   "metadata": {
    "slideshow": {
     "slide_type": "slide"
    }
   },
   "source": [
    "## 1. Measuring \"Goodness\" of Classifiers"
   ]
  },
  {
   "cell_type": "markdown",
   "metadata": {},
   "source": [
    "In Lesson 13, we have created a function called `predict_tumor_class()`:\n",
    "\n",
    "`Z <- predict_tumor_class( X, Y )`\n",
    "\n",
    "where\n",
    "+ X = marginal adhesion value\n",
    "+ Y = clump thickness value\n",
    "+ Z = the prediction that your decision tree classifier makes for the given values of X and Y"
   ]
  },
  {
   "cell_type": "markdown",
   "metadata": {
    "slideshow": {
     "slide_type": "subslide"
    }
   },
   "source": [
    "**Example: Encoding a simple classifier (version 2)**\n",
    "\n",
    "<table>\n",
    "    <tr>\n",
    "        <td><img src=\"lec20-knn-illustration2_wline2.jpg\" width=\"600\"></td>\n",
    "        <td><img src=\"dec_tree1b.jpg\" width=\"600\"></td>\n",
    "    </tr>\n",
    "</table>  "
   ]
  },
  {
   "cell_type": "markdown",
   "metadata": {
    "slideshow": {
     "slide_type": "subslide"
    }
   },
   "source": [
    "Recall that our classifier was constructed based on our observation of the training dataset.\n",
    "+ The original cancer dataset has 638 rows.\n",
    "+ We take the first 400 for our training dataset and the last 283 for our test dataset"
   ]
  },
  {
   "cell_type": "code",
   "execution_count": null,
   "metadata": {
    "slideshow": {
     "slide_type": "subslide"
    }
   },
   "outputs": [],
   "source": [
    "cancerdata <- read.csv('../../shared/datasets/cancer.csv')\n",
    "dim(cancerdata)"
   ]
  },
  {
   "cell_type": "code",
   "execution_count": null,
   "metadata": {
    "slideshow": {
     "slide_type": "subslide"
    }
   },
   "outputs": [],
   "source": [
    "# ---------------\n",
    "# this part simply puts together the pieces we have done previously into one giant code cell\n",
    "\n",
    "# 1. THE DATASET\n",
    "# as we did in lesson 11, split into training and test datasets:\n",
    "#cancerdata$Class <- factor(cancerdata$Class)\n",
    "\n",
    "# split the cancer dataset into two: training data (the first 300 rows), test data (the remaining 383 rows) \n",
    "training_data <- cancerdata[1:300,]\n",
    "test_data <- cancerdata[301:683,]\n",
    "\n",
    "\n",
    "# 2. THE CLASSIFIER \n",
    "# here is the classifier from Lesson 13\n",
    "\n",
    "# Encoding a simple classifier\n",
    "# If marginal_adhesion is less than 4 AND clump_thickness is less than 7, the tumor is classified as 0 (benign); \n",
    "# else, it is classified as 1 (malignant)\n",
    "\n",
    "predict_tumor_class <- function( clump_thickness, marginal_adhesion ){\n",
    "    \n",
    "    if( marginal_adhesion < 4 ){\n",
    "\n",
    "        if( clump_thickness < 7 ){\n",
    "            class_predicted <- 0\n",
    "        }else{\n",
    "            class_predicted <- 1\n",
    "        }\n",
    "\n",
    "    }else{\n",
    "        class_predicted <- 1\n",
    "    }\n",
    "    \n",
    "    return( class_predicted )\n",
    "}\n",
    "\n",
    "\n",
    "# 3. PREDICT THE CLASS OF EACH ROW OF THE TEST DATASET, USING A FOR LOOP\n",
    "#   we did this in lesson 14:\n",
    "\n",
    "# create an empty data frame, 2 columns, 283 rows\n",
    "\n",
    "predictions <- data.frame(matrix(nrow = 283, ncol = 2))\n",
    "names(predictions) <- c( 'class_actual', 'class_predicted' )\n",
    "\n",
    "# column containing the actual class is from the Class column of the test data\n",
    "predictions$class_actual <- test_data$Class\n",
    "\n",
    "# store the predictions in this data frame\n",
    "for( row in 1:283 ){\n",
    "\n",
    "    output <- predict_tumor_class( test_data$Clump.Thickness[row] , \n",
    "                                        test_data$Marginal.Adhesion[row ] )\n",
    "\n",
    "    predictions$class_predicted[row] <- output\n",
    "}\n",
    "\n",
    "head(predictions)\n",
    "# -------------------\n",
    "\n",
    "\n",
    "# Next, check how good our predictions are, by comparing to the actual class\n",
    "\n",
    "# count how many predictions are incorrect and how many are correct\n",
    "#    add a new column called \"error\"\n",
    "#    if actual class is equal to predicted class, error is 0; else, error is 1\n",
    "\n",
    "\n",
    "\n",
    "\n",
    "\n",
    "\n"
   ]
  },
  {
   "cell_type": "code",
   "execution_count": null,
   "metadata": {
    "slideshow": {
     "slide_type": "-"
    }
   },
   "outputs": [],
   "source": [
    "\n",
    "\n",
    "\n",
    "\n",
    "\n"
   ]
  },
  {
   "cell_type": "code",
   "execution_count": null,
   "metadata": {},
   "outputs": [],
   "source": [
    "\n",
    "\n"
   ]
  },
  {
   "cell_type": "code",
   "execution_count": null,
   "metadata": {},
   "outputs": [],
   "source": [
    "\n",
    "\n"
   ]
  },
  {
   "cell_type": "markdown",
   "metadata": {},
   "source": [
    "### The k Nearest Neighbor Classifier"
   ]
  },
  {
   "cell_type": "code",
   "execution_count": null,
   "metadata": {},
   "outputs": [],
   "source": [
    "#knn\n",
    "\n",
    "\n"
   ]
  },
  {
   "cell_type": "code",
   "execution_count": null,
   "metadata": {},
   "outputs": [],
   "source": []
  },
  {
   "cell_type": "code",
   "execution_count": null,
   "metadata": {},
   "outputs": [],
   "source": [
    "\n",
    "\n"
   ]
  },
  {
   "cell_type": "code",
   "execution_count": null,
   "metadata": {},
   "outputs": [],
   "source": [
    "# make an empty data frame to store the predictions\n",
    "predictions <- data.frame( matrix( nrow = 283, ncol = 3   ))\n",
    "names(predictions) <- c('class_actual', 'class_predicted', 'error')\n",
    "\n",
    "head(predictions)"
   ]
  },
  {
   "cell_type": "code",
   "execution_count": null,
   "metadata": {},
   "outputs": [],
   "source": []
  }
 ],
 "metadata": {
  "celltoolbar": "Slideshow",
  "kernelspec": {
   "display_name": "R",
   "language": "R",
   "name": "ir"
  },
  "language_info": {
   "codemirror_mode": "r",
   "file_extension": ".r",
   "mimetype": "text/x-r-source",
   "name": "R",
   "pygments_lexer": "r",
   "version": "3.6.1"
  }
 },
 "nbformat": 4,
 "nbformat_minor": 2
}
