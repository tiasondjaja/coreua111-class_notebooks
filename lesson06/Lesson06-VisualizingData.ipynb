{
 "cells": [
  {
   "cell_type": "markdown",
   "metadata": {
    "slideshow": {
     "slide_type": "slide"
    }
   },
   "source": [
    "# Lesson 6: Visualizing Data\n",
    "\n",
    "Today:\n",
    "1. Visualizing the distribution of a variable\n",
    "2. Visualizing the relationship between two variables\n",
    "3. Creating data visualizations in R\n",
    "    + Visualizing the distribution of a variable:  **Bar plots** and **Histograms**\n",
    "    + Visualizing the relationship between two variables: **Bar plots** and **Scatterplots**"
   ]
  },
  {
   "cell_type": "code",
   "execution_count": 1,
   "metadata": {
    "slideshow": {
     "slide_type": "subslide"
    }
   },
   "outputs": [
    {
     "data": {
      "text/html": [
       "<table>\n",
       "<thead><tr><th scope=col>Name</th><th scope=col>Species</th><th scope=col>Weight_lb</th><th scope=col>Age</th></tr></thead>\n",
       "<tbody>\n",
       "\t<tr><td>Alex  </td><td>Cat   </td><td> 25   </td><td>8     </td></tr>\n",
       "\t<tr><td>Bert  </td><td>Cat   </td><td> 15   </td><td>3     </td></tr>\n",
       "\t<tr><td>Cate  </td><td>Dog   </td><td>100   </td><td>4     </td></tr>\n",
       "\t<tr><td>Doug  </td><td>Cat   </td><td> 20   </td><td>3     </td></tr>\n",
       "\t<tr><td>Evan  </td><td>Dog   </td><td> 20   </td><td>1     </td></tr>\n",
       "\t<tr><td>Finn  </td><td>Rabbit</td><td>  4   </td><td>2     </td></tr>\n",
       "</tbody>\n",
       "</table>\n"
      ],
      "text/latex": [
       "\\begin{tabular}{r|llll}\n",
       " Name & Species & Weight\\_lb & Age\\\\\n",
       "\\hline\n",
       "\t Alex   & Cat    &  25    & 8     \\\\\n",
       "\t Bert   & Cat    &  15    & 3     \\\\\n",
       "\t Cate   & Dog    & 100    & 4     \\\\\n",
       "\t Doug   & Cat    &  20    & 3     \\\\\n",
       "\t Evan   & Dog    &  20    & 1     \\\\\n",
       "\t Finn   & Rabbit &   4    & 2     \\\\\n",
       "\\end{tabular}\n"
      ],
      "text/markdown": [
       "\n",
       "| Name | Species | Weight_lb | Age |\n",
       "|---|---|---|---|\n",
       "| Alex   | Cat    |  25    | 8      |\n",
       "| Bert   | Cat    |  15    | 3      |\n",
       "| Cate   | Dog    | 100    | 4      |\n",
       "| Doug   | Cat    |  20    | 3      |\n",
       "| Evan   | Dog    |  20    | 1      |\n",
       "| Finn   | Rabbit |   4    | 2      |\n",
       "\n"
      ],
      "text/plain": [
       "  Name Species Weight_lb Age\n",
       "1 Alex Cat      25       8  \n",
       "2 Bert Cat      15       3  \n",
       "3 Cate Dog     100       4  \n",
       "4 Doug Cat      20       3  \n",
       "5 Evan Dog      20       1  \n",
       "6 Finn Rabbit    4       2  "
      ]
     },
     "metadata": {},
     "output_type": "display_data"
    }
   ],
   "source": [
    "# class starter\n",
    "\n",
    "my_pets <- data.frame( Name = c('Alex', 'Bert', 'Cate', 'Doug', 'Evan', 'Finn') ,\n",
    "                       Species = c('Cat', 'Cat', 'Dog', 'Cat', 'Dog', 'Rabbit'),\n",
    "                       Weight_lb = c(25, 15, 100, 20, 20, 4),\n",
    "                       Age = c( 8, 3, 4, 3, 1, 2 ) \n",
    "                     )\n",
    "\n",
    "my_pets\n",
    "\n"
   ]
  },
  {
   "cell_type": "markdown",
   "metadata": {
    "slideshow": {
     "slide_type": "slide"
    }
   },
   "source": [
    "## 3. Creating data visualizations with R\n",
    "\n",
    "We will use an R package called `ggplot2` to create data visualizations.  To load the package, we run the cell below.  (We need to load the package just once each time we use a Jupyter Notebook.  We will use `ggplot2` often in future notebooks.)"
   ]
  },
  {
   "cell_type": "code",
   "execution_count": null,
   "metadata": {},
   "outputs": [],
   "source": [
    "library('ggplot2')\n",
    "\n",
    "\n",
    "# ignore the commands below; these just make sure plots fit on the screen\n",
    "library('repr')\n",
    "options(repr.plot.width=3, repr.plot.height=3)"
   ]
  },
  {
   "cell_type": "markdown",
   "metadata": {
    "slideshow": {
     "slide_type": "skip"
    }
   },
   "source": [
    "**Example**\n",
    "\n",
    "Next, let's load the dataset that we'll use today.\n",
    "\n",
    "This data is taken from the [2015 NYC Street Tree Census data, from NYC Open Data](https://data.cityofnewyork.us/Environment/2015-Street-Tree-Census-Tree-Data/pi5s-9p35).  You can find this dataset saved as `NYC_Tree_census.csv` in the `datasets` folder in `shared`.  This dataset contains more than 600,000 rows of data, and is therefore quite large.  \n",
    "\n",
    "We have included a smaller version of this dataset, `NYC_Tree_census_small.csv`, containing \"only\" 10,000 randomly chosen rows.  If you find that the large version takes a long time to work with, please use this smaller version."
   ]
  },
  {
   "cell_type": "code",
   "execution_count": 2,
   "metadata": {},
   "outputs": [
    {
     "name": "stderr",
     "output_type": "stream",
     "text": [
      "Warning message in file(file, \"rt\"):\n",
      "\"cannot open file '../../shared/datasets/NYC_Tree_Census_small.csv': No such file or directory\""
     ]
    },
    {
     "ename": "ERROR",
     "evalue": "Error in file(file, \"rt\"): cannot open the connection\n",
     "output_type": "error",
     "traceback": [
      "Error in file(file, \"rt\"): cannot open the connection\nTraceback:\n",
      "1. read.csv(\"../../shared/datasets/NYC_Tree_Census_small.csv\")",
      "2. read.table(file = file, header = header, sep = sep, quote = quote, \n .     dec = dec, fill = fill, comment.char = comment.char, ...)",
      "3. file(file, \"rt\")"
     ]
    }
   ],
   "source": [
    "nyc_trees <- read.csv( '../../shared/datasets/NYC_Tree_Census_small.csv' )\n",
    "\n",
    "\n"
   ]
  },
  {
   "cell_type": "markdown",
   "metadata": {
    "slideshow": {
     "slide_type": "subslide"
    }
   },
   "source": [
    "Before we start visualizing the data, let's try to get a basic understanding of what this dataset is.\n",
    "+ How many observations?  How many variables?\n",
    "+ What does each observation correspond to?\n",
    "+ What types of variables are there in this dataset?"
   ]
  },
  {
   "cell_type": "code",
   "execution_count": 3,
   "metadata": {},
   "outputs": [
    {
     "name": "stderr",
     "output_type": "stream",
     "text": [
      "Registered S3 methods overwritten by 'ggplot2':\n",
      "  method         from \n",
      "  [.quosures     rlang\n",
      "  c.quosures     rlang\n",
      "  print.quosures rlang\n"
     ]
    },
    {
     "data": {
      "image/png": "[encoded data removed]",
      "text/plain": [
       "plot without title"
      ]
     },
     "metadata": {},
     "output_type": "display_data"
    }
   ],
   "source": []
  },
  {
   "cell_type": "markdown",
   "metadata": {
    "slideshow": {
     "slide_type": "subslide"
    }
   },
   "source": [
    "### Using the `ggplot()` function to create data visualizations\n",
    "\n",
    "The `ggplot2` package comes with various functions that let us make different types of visualizations.  In general, this is how the code for creating plots using `ggplot2` look like\n",
    "\n",
    "```\n",
    "ggplot( data = DATAFRAMENAME, aes( x = VARIABLENAME, ... ) ) + geom_TYPEOFPLOT()  \n",
    "```\n",
    "(depending on the type of plots, we might replace the `...` above with further information.)\n",
    "\n",
    "Tooday, we will look at two types of plots: bar plots and histograms."
   ]
  },
  {
   "cell_type": "markdown",
   "metadata": {
    "slideshow": {
     "slide_type": "subslide"
    }
   },
   "source": [
    "### 2.1. Bar Plots\n",
    "\n",
    "We use bar plots to visualize **the distribution** of a **categorical variable**.\n",
    "\n",
    "**To create a bar plot** using `ggplot2`, we use thefollowing command:\n",
    "```\n",
    "ggplot( data = DATAFRAMENAME, aes( x = VARIABLENAME ) ) + geom_bar() \n",
    "```\n",
    "where `VARIABLENAME` should correspond to a categorical variable.\n",
    "\n",
    "**Example**\n",
    "\n",
    "In our example, the `nyc_trees` dataset contains data of 10000 trees.  We might be interested in: whether the trees were evenly distributed across the five borough; which borough has the most/least number of trees; etc."
   ]
  },
  {
   "cell_type": "code",
   "execution_count": null,
   "metadata": {},
   "outputs": [],
   "source": []
  },
  {
   "cell_type": "code",
   "execution_count": null,
   "metadata": {},
   "outputs": [],
   "source": []
  },
  {
   "cell_type": "markdown",
   "metadata": {
    "slideshow": {
     "slide_type": "subslide"
    }
   },
   "source": [
    "**Exercise**\n",
    "\n",
    "Choose another categorical variable in the `nyc_trees` dataset and create a bar plot for this variable."
   ]
  },
  {
   "cell_type": "code",
   "execution_count": null,
   "metadata": {
    "slideshow": {
     "slide_type": "fragment"
    }
   },
   "outputs": [],
   "source": [
    "# create a bar plot for your chosen categorical variable\n"
   ]
  },
  {
   "cell_type": "code",
   "execution_count": null,
   "metadata": {},
   "outputs": [],
   "source": [
    "\n"
   ]
  },
  {
   "cell_type": "markdown",
   "metadata": {
    "slideshow": {
     "slide_type": "slide"
    }
   },
   "source": [
    "### 2.2. Histograms\n",
    "\n",
    "We use histograms to visualize **the distribution** of a **numerical variables**.\n",
    "\n",
    "**To create a histogram** using `ggplot2`, we use thefollowing command:\n",
    "```\n",
    "ggplot( DATAFRAMENAME, aes( x = VARIABLENAME ) ) + geom_histogram() \n",
    "```\n",
    "where `VARIABLENAME` should correspond to a numerical variable.\n",
    "\n",
    "**Bar Plots vs. Histograms**\n",
    "+ Histograms are similar to to bar plots in that they give us a sense of how frequently a particular value/range of values appear in the column.  \n",
    "\n",
    "+ However, when our columns contain numbers, we don't necessarily want one bar for each of those numbers.  Instead, we might want to group some numbers together.  For example, maybe we want to count the number of trees whose diameters are between 0 and 5 inches, between 5 and 10 inches, etc. and plot them.\n",
    "\n",
    "\n",
    "**Example**\n",
    "\n",
    "Create a histogram to visualize the distribution of tree diameters (in the column `tree_dbh`)"
   ]
  },
  {
   "cell_type": "markdown",
   "metadata": {
    "slideshow": {
     "slide_type": "fragment"
    }
   },
   "source": []
  },
  {
   "cell_type": "markdown",
   "metadata": {
    "slideshow": {
     "slide_type": "fragment"
    }
   },
   "source": []
  },
  {
   "cell_type": "markdown",
   "metadata": {
    "slideshow": {
     "slide_type": "subslide"
    }
   },
   "source": []
  },
  {
   "cell_type": "markdown",
   "metadata": {
    "slideshow": {
     "slide_type": "subslide"
    }
   },
   "source": []
  },
  {
   "cell_type": "code",
   "execution_count": null,
   "metadata": {
    "slideshow": {
     "slide_type": "fragment"
    }
   },
   "outputs": [],
   "source": []
  },
  {
   "cell_type": "markdown",
   "metadata": {
    "slideshow": {
     "slide_type": "subslide"
    }
   },
   "source": [
    "If we want to change the number of \"bins\", we can add an extra input in our `ggplot2` command:\n",
    "\n",
    "```\n",
    "ggplot( DATAFRAMENAME, aes( x = VARIABLENAME ) ) + geom_histogram( bins = NUMBEROFBINS ) \n",
    "```\n",
    "\n",
    "For example:"
   ]
  },
  {
   "cell_type": "code",
   "execution_count": null,
   "metadata": {
    "slideshow": {
     "slide_type": "fragment"
    }
   },
   "outputs": [],
   "source": [
    "\n",
    "\n"
   ]
  },
  {
   "cell_type": "markdown",
   "metadata": {
    "slideshow": {
     "slide_type": "subslide"
    }
   },
   "source": [
    "**Exercise**\n",
    "\n",
    "Choose another numerical variable in the `nyc_tree` dataset and create a histogram for this variable.  Try changing the number of bins used."
   ]
  },
  {
   "cell_type": "code",
   "execution_count": null,
   "metadata": {
    "slideshow": {
     "slide_type": "fragment"
    }
   },
   "outputs": [],
   "source": [
    "# Choose another numerical variable in the `nyc_tree_data` dataset and create a histogram for this variable.  \n",
    "# Try changing the number of bins used.\n",
    "\n",
    "\n"
   ]
  },
  {
   "cell_type": "markdown",
   "metadata": {
    "slideshow": {
     "slide_type": "slide"
    }
   },
   "source": [
    "### 2.3. Scatterplots\n",
    "\n",
    "We use scatterplots when we want to visualize the relationship between two numerical variables.\n",
    "\n",
    "**To create a scatterplot** using `ggplot2`, we use thefollowing command:\n",
    "```\n",
    "ggplot( DATAFRAMENAME, aes( x = VARIABLENAME1, y = VARIABLENAME2 ) ) + geom_point() \n",
    "```\n",
    "where `VARIABLENAME1` and `VARIABLENAME2` should correspond to numerical variables.\n",
    "\n",
    "**Example**\n",
    "\n",
    "We will create a scatterplot, plotting the x and y coordinates of the trees in this dataset"
   ]
  },
  {
   "cell_type": "markdown",
   "metadata": {
    "slideshow": {
     "slide_type": "subslide"
    }
   },
   "source": []
  },
  {
   "cell_type": "code",
   "execution_count": null,
   "metadata": {},
   "outputs": [],
   "source": [
    "\n"
   ]
  },
  {
   "cell_type": "code",
   "execution_count": null,
   "metadata": {
    "slideshow": {
     "slide_type": "fragment"
    }
   },
   "outputs": [],
   "source": [
    "\n",
    "\n"
   ]
  },
  {
   "cell_type": "markdown",
   "metadata": {
    "slideshow": {
     "slide_type": "subslide"
    }
   },
   "source": [
    "**Exercises**\n",
    "\n",
    "Let's try making visualizations from one of the other datasets we've seen previously.\n",
    "+ Create one bar plot\n",
    "+ Create one histogram\n",
    "+ Create one scatterplot."
   ]
  },
  {
   "cell_type": "code",
   "execution_count": null,
   "metadata": {
    "slideshow": {
     "slide_type": "subslide"
    }
   },
   "outputs": [],
   "source": []
  },
  {
   "cell_type": "code",
   "execution_count": null,
   "metadata": {
    "slideshow": {
     "slide_type": "subslide"
    }
   },
   "outputs": [],
   "source": [
    "\n",
    "\n"
   ]
  },
  {
   "cell_type": "code",
   "execution_count": null,
   "metadata": {
    "slideshow": {
     "slide_type": "subslide"
    }
   },
   "outputs": [],
   "source": []
  }
 ],
 "metadata": {
  "celltoolbar": "Slideshow",
  "kernelspec": {
   "display_name": "R",
   "language": "R",
   "name": "ir"
  },
  "language_info": {
   "codemirror_mode": "r",
   "file_extension": ".r",
   "mimetype": "text/x-r-source",
   "name": "R",
   "pygments_lexer": "r",
   "version": "3.6.1"
  }
 },
 "nbformat": 4,
 "nbformat_minor": 2
}
