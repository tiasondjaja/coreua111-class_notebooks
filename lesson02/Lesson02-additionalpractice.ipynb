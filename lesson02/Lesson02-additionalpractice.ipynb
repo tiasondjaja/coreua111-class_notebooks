{
 "cells": [
  {
   "cell_type": "markdown",
   "metadata": {},
   "source": [
    "# Lesson 2: Introduction to R\n",
    "## Additional Practice Exercises\n",
    "\n",
    "This Jupyter notebook contains additional exercises to help you practice.  These will not be graded."
   ]
  },
  {
   "cell_type": "markdown",
   "metadata": {},
   "source": [
    "Today:\n",
    "1. Basic computing and arithmetic in R\n",
    "2. Working with names\n",
    "3. Comments\n",
    "4. Functions\n",
    "5. Types of data\n",
    "6. Lists"
   ]
  },
  {
   "cell_type": "markdown",
   "metadata": {},
   "source": [
    "### Exercise 1\n",
    "\n",
    "Suppose that I would like to know how long I have to wait for my train in my morning commute to work.  I recorded that in the past two weeks, the number of minutes I had to wait for my train were: 1, 5, 10, 5, 7, 3, 15, 3, 20, 3.\n",
    "\n",
    "Your tasks:\n",
    "1. Create a list called `train_waittimes` consisting of the number of minutes I had to wait for my morning-commute train in the past two weeks.\n",
    "2. Create a new list called `train_waittimes_hours` consisting of my wait times, but in hours.  Instead of computing the number of hours for each of the above 10 numbers one by one, please use the `train_waittimes` list you created in the above step.\n",
    "3. How many minutes did I have to wait on average?   Please compute this number in two ways:\n",
    "    + using the `sum()` and `length()` functions\n",
    "    + using the `mean()` function"
   ]
  },
  {
   "cell_type": "code",
   "execution_count": null,
   "metadata": {},
   "outputs": [],
   "source": [
    "# TRY IT HERE!\n",
    "\n",
    "\n"
   ]
  },
  {
   "cell_type": "code",
   "execution_count": null,
   "metadata": {},
   "outputs": [],
   "source": []
  },
  {
   "cell_type": "code",
   "execution_count": null,
   "metadata": {},
   "outputs": [],
   "source": []
  },
  {
   "cell_type": "markdown",
   "metadata": {},
   "source": [
    "### Exercise 2"
   ]
  },
  {
   "cell_type": "code",
   "execution_count": null,
   "metadata": {},
   "outputs": [],
   "source": [
    "# TRY IT HERE!\n",
    "\n",
    "\n"
   ]
  },
  {
   "cell_type": "markdown",
   "metadata": {},
   "source": [
    "### Exercise 3"
   ]
  },
  {
   "cell_type": "code",
   "execution_count": null,
   "metadata": {},
   "outputs": [],
   "source": [
    "# TRY IT HERE!\n",
    "\n",
    "\n"
   ]
  },
  {
   "cell_type": "markdown",
   "metadata": {},
   "source": [
    "### Exercise 4"
   ]
  },
  {
   "cell_type": "code",
   "execution_count": null,
   "metadata": {},
   "outputs": [],
   "source": [
    "# TRY IT HERE!\n",
    "\n",
    "\n"
   ]
  },
  {
   "cell_type": "markdown",
   "metadata": {},
   "source": [
    "### Exercise 5"
   ]
  },
  {
   "cell_type": "code",
   "execution_count": null,
   "metadata": {},
   "outputs": [],
   "source": [
    "# TRY IT HERE!\n",
    "\n",
    "\n"
   ]
  },
  {
   "cell_type": "markdown",
   "metadata": {},
   "source": [
    "## Summary of new R functions\n",
    "Here's a brief summary of the new R functions we learned today.  You should be familiar with these functions and able to use them in labs and projects.\n",
    "\n",
    "You might want to add their descriptions down here as you review/study.  As you use these functions frequently in labs, projects, and homework, you will learn to remember and understand them and be more \"fluent\" in using them.\n",
    "\n",
    "+ General functions\n",
    "    + print()\n",
    "    + sqrt()\n",
    "    + abs()\n",
    "+ Functions for checking types of data\n",
    "    + typeof()\n",
    "    + class()\n",
    "+ Functions for working with lists\n",
    "    + c()\n",
    "    + length()\n",
    "    + max()\n",
    "    + min()\n",
    "    + sum()\n",
    "    + mean()\n"
   ]
  },
  {
   "cell_type": "code",
   "execution_count": null,
   "metadata": {},
   "outputs": [],
   "source": []
  }
 ],
 "metadata": {
  "kernelspec": {
   "display_name": "R",
   "language": "R",
   "name": "ir"
  },
  "language_info": {
   "codemirror_mode": "r",
   "file_extension": ".r",
   "mimetype": "text/x-r-source",
   "name": "R",
   "pygments_lexer": "r",
   "version": "3.5.1"
  }
 },
 "nbformat": 4,
 "nbformat_minor": 1
}
