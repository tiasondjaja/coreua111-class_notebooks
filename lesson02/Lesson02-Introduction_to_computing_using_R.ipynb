{
 "cells": [
  {
   "cell_type": "markdown",
   "metadata": {
    "slideshow": {
     "slide_type": "-"
    }
   },
   "source": [
    "# Lesson 2: Introduction to Computing Using R\n",
    "\n",
    "**Goals & Key Ideas:**\n",
    "1. Working with Jupyter Notebooks\n",
    "2. Computing and arithmetic in R\n",
    "3. Working with \"names\"\n",
    "4. Types of Data\n",
    "5. Functions\n",
    "6. Lists"
   ]
  },
  {
   "cell_type": "markdown",
   "metadata": {
    "slideshow": {
     "slide_type": "-"
    }
   },
   "source": [
    "## 1. Working with Jupyter Notebooks\n",
    "\n",
    "A Jupyter Notebook is a type of document that can be used for both writing text (like a Word document) and writing codes"
   ]
  },
  {
   "cell_type": "markdown",
   "metadata": {
    "slideshow": {
     "slide_type": "-"
    }
   },
   "source": [
    "A Jupyter Notebook consists of **cells** (places to enter our texts or codes)"
   ]
  },
  {
   "cell_type": "markdown",
   "metadata": {
    "slideshow": {
     "slide_type": "-"
    }
   },
   "source": [
    "There are two main types of cells:\n",
    "+ **Markdown cells\"**: for writing texts\n",
    "+ **Code cells**: for writing codes"
   ]
  },
  {
   "cell_type": "markdown",
   "metadata": {
    "slideshow": {
     "slide_type": "-"
    }
   },
   "source": [
    "To run a code in a current cell, we press Shift + Enter"
   ]
  },
  {
   "cell_type": "markdown",
   "metadata": {
    "slideshow": {
     "slide_type": "-"
    }
   },
   "source": [
    "## Demonstration\n",
    "\n",
    "During each class, please follow along by modifying or filling out texts/codes in the notebook.\n",
    "\n",
    "+ **To get a copy where your own notes and changes can be saved**\n",
    "    + Go to our NYU Classes site > Lessons\n",
    "    + Go to the Lesson page for the day's topic\n",
    "    + Click on the Jupyter notebook link\n",
    "    + Your copy of the notebook will be created in your Jupyter Hub, stored under the `coreua111-class_notebooks' folder\n",
    "    + You are strongly encouraged to fill in the blanks and to add your own notes there\n",
    "    + If you click on the above Jupyter notebook link again, your changes and any further changes I make on my copy will be merged.\n",
    "+ **To get a reference copy (read only)**\n",
    "    + Go to our JupyterHub\n",
    "    + Go to the `shared` folder\n",
    "    + go to the `class_notebooks` subfolder\n",
    "    + After class, a filled out copy of the Jupyter notebook will be available there.  This copy is read-only; your notes/changes will not be saved.\n",
    "\n",
    "(Sometimes, the lecture slides might be a pdf file or a set of Google presentation slides, accompanied by Jupyter notebooks for demonstrations.  We will switch back and forth between the slides and the Jupyter notebook.)"
   ]
  },
  {
   "cell_type": "markdown",
   "metadata": {
    "slideshow": {
     "slide_type": "-"
    }
   },
   "source": [
    "# 2. Computing and arithmetic in R\n",
    "\n",
    "We can do basic computations in R, such as adding, subtracting, multiplying, and dividing numbers"
   ]
  },
  {
   "cell_type": "code",
   "execution_count": null,
   "metadata": {},
   "outputs": [],
   "source": []
  },
  {
   "cell_type": "code",
   "execution_count": null,
   "metadata": {
    "slideshow": {
     "slide_type": "-"
    }
   },
   "outputs": [],
   "source": [
    "\n",
    "\n"
   ]
  },
  {
   "cell_type": "markdown",
   "metadata": {},
   "source": [
    "# 3. Working with \"names\""
   ]
  },
  {
   "cell_type": "code",
   "execution_count": null,
   "metadata": {},
   "outputs": [],
   "source": []
  },
  {
   "cell_type": "code",
   "execution_count": null,
   "metadata": {},
   "outputs": [],
   "source": []
  },
  {
   "cell_type": "code",
   "execution_count": null,
   "metadata": {},
   "outputs": [],
   "source": []
  },
  {
   "cell_type": "code",
   "execution_count": 6,
   "metadata": {},
   "outputs": [],
   "source": [
    "# There is a file called studentsurvey.csv in the folder where this jupyter notebook file is located\n",
    "# We load this file\n",
    "\n",
    "studentsurvey <-   read.csv('studentsurvey.csv')\n",
    "\n",
    "# For now, the main thing to keep in mind is that we are giving a name to a data table \n",
    "#  so that we can easily refer to it and display it\n",
    "\n",
    "# When you type the name of the table and run the code, R displays the contents of the table\n",
    "\n"
   ]
  },
  {
   "cell_type": "code",
   "execution_count": null,
   "metadata": {},
   "outputs": [],
   "source": []
  },
  {
   "cell_type": "markdown",
   "metadata": {
    "slideshow": {
     "slide_type": "-"
    }
   },
   "source": [
    "## 4. Types of Data"
   ]
  },
  {
   "cell_type": "markdown",
   "metadata": {
    "slideshow": {
     "slide_type": "-"
    }
   },
   "source": [
    "##### 1. Numerical Data\n",
    "    \n",
    "These are data that are numbers!  They could be positive, negative, integer, or non-integer numbers."
   ]
  },
  {
   "cell_type": "code",
   "execution_count": null,
   "metadata": {},
   "outputs": [],
   "source": []
  },
  {
   "cell_type": "markdown",
   "metadata": {
    "slideshow": {
     "slide_type": "-"
    }
   },
   "source": [
    "##### 2. Text Data (a.k.a. string or **character**)"
   ]
  },
  {
   "cell_type": "code",
   "execution_count": null,
   "metadata": {},
   "outputs": [],
   "source": []
  },
  {
   "cell_type": "markdown",
   "metadata": {
    "slideshow": {
     "slide_type": "-"
    }
   },
   "source": [
    "##### 3. Categorical/Group Data (a.k.a. **factor**)\n",
    "   \n",
    "These are data that indicates groups/categories/types.\n",
    "   \n"
   ]
  },
  {
   "cell_type": "code",
   "execution_count": null,
   "metadata": {},
   "outputs": [],
   "source": []
  },
  {
   "cell_type": "markdown",
   "metadata": {
    "slideshow": {
     "slide_type": "-"
    }
   },
   "source": [
    "##### 4. Boolean Data (a.k.a. **logical** data)\n",
    "   \n",
    "These are \"binary\" data, which has only two possibilities: TRUE or FALSE values.  We will see their concrete use later."
   ]
  },
  {
   "cell_type": "code",
   "execution_count": null,
   "metadata": {},
   "outputs": [],
   "source": []
  },
  {
   "cell_type": "markdown",
   "metadata": {
    "slideshow": {
     "slide_type": "-"
    }
   },
   "source": [
    "## 5. Functions"
   ]
  },
  {
   "cell_type": "code",
   "execution_count": null,
   "metadata": {
    "slideshow": {
     "slide_type": "-"
    }
   },
   "outputs": [],
   "source": [
    "\n",
    "\n"
   ]
  },
  {
   "cell_type": "code",
   "execution_count": null,
   "metadata": {
    "slideshow": {
     "slide_type": "-"
    }
   },
   "outputs": [],
   "source": [
    "\n",
    "\n"
   ]
  },
  {
   "cell_type": "markdown",
   "metadata": {
    "slideshow": {
     "slide_type": "-"
    }
   },
   "source": [
    "## 6. Lists"
   ]
  },
  {
   "cell_type": "markdown",
   "metadata": {
    "slideshow": {
     "slide_type": "-"
    }
   },
   "source": [
    "### 6.1. Making a new list using the `c()` function"
   ]
  },
  {
   "cell_type": "code",
   "execution_count": null,
   "metadata": {},
   "outputs": [],
   "source": []
  },
  {
   "cell_type": "code",
   "execution_count": null,
   "metadata": {},
   "outputs": [],
   "source": [
    "\n",
    "\n",
    "\n"
   ]
  },
  {
   "cell_type": "code",
   "execution_count": null,
   "metadata": {},
   "outputs": [],
   "source": []
  },
  {
   "cell_type": "code",
   "execution_count": null,
   "metadata": {
    "slideshow": {
     "slide_type": "-"
    }
   },
   "outputs": [],
   "source": [
    "\n",
    "\n"
   ]
  },
  {
   "cell_type": "markdown",
   "metadata": {
    "slideshow": {
     "slide_type": "-"
    }
   },
   "source": [
    "### 6.2. Making a new list of integers (second method)"
   ]
  },
  {
   "cell_type": "code",
   "execution_count": null,
   "metadata": {
    "slideshow": {
     "slide_type": "-"
    }
   },
   "outputs": [],
   "source": []
  },
  {
   "cell_type": "code",
   "execution_count": null,
   "metadata": {
    "scrolled": true
   },
   "outputs": [],
   "source": []
  },
  {
   "cell_type": "markdown",
   "metadata": {
    "slideshow": {
     "slide_type": "-"
    }
   },
   "source": [
    "### 6.3. Arithmetic with numeric lists\n",
    "\n",
    "**Example**"
   ]
  },
  {
   "cell_type": "code",
   "execution_count": null,
   "metadata": {
    "slideshow": {
     "slide_type": "-"
    }
   },
   "outputs": [],
   "source": []
  },
  {
   "cell_type": "code",
   "execution_count": null,
   "metadata": {},
   "outputs": [],
   "source": [
    "\n",
    "\n"
   ]
  },
  {
   "cell_type": "markdown",
   "metadata": {
    "slideshow": {
     "slide_type": "-"
    }
   },
   "source": [
    "### 6.4. Useful functions for working with lists\n",
    "\n",
    "In addition to the function `c()`, which we use to make new lists, the following are three other useful functions that we can use to examine lists:\n",
    "+ `length()`: to find the \"length\" of a list (i.e. how many values are stored in a list \n",
    "+ `max()`: to find the largest value in a list\n",
    "+ `min()`: to find the smallest value in a list\n",
    "+ `sum()`: to find the sum of values in a list\n",
    "+ `mean()`: to find the average of values in a list\n",
    "\n",
    "Try them below."
   ]
  },
  {
   "cell_type": "code",
   "execution_count": null,
   "metadata": {
    "slideshow": {
     "slide_type": "-"
    }
   },
   "outputs": [],
   "source": [
    "\n",
    "\n"
   ]
  },
  {
   "cell_type": "markdown",
   "metadata": {
    "slideshow": {
     "slide_type": "-"
    }
   },
   "source": [
    "**Exercise** Create a list of all integers from 1 to 10 and name this list `my_new_list`.  Then, \n",
    "1. print the contents of this list.\n",
    "2. find the sum of the integers 1, 2, ... , 10"
   ]
  },
  {
   "cell_type": "code",
   "execution_count": null,
   "metadata": {},
   "outputs": [],
   "source": [
    "\n"
   ]
  },
  {
   "cell_type": "markdown",
   "metadata": {
    "slideshow": {
     "slide_type": "-"
    }
   },
   "source": [
    "##### 2-Minute Group Work\n",
    "How might you do the following in R as succinctly as possible?  Think about this question on your own for about 30 seconds, then discuss with at least one neighbor.\n",
    "1. Create a list containing the first 50 positive even numbers\n",
    "2. Create a list containing the first 50 positive odd numbers"
   ]
  },
  {
   "cell_type": "code",
   "execution_count": null,
   "metadata": {},
   "outputs": [],
   "source": [
    "\n",
    "\n",
    "\n"
   ]
  },
  {
   "cell_type": "markdown",
   "metadata": {
    "slideshow": {
     "slide_type": "-"
    }
   },
   "source": [
    "## Summary\n",
    "\n",
    "Today:\n",
    "1. Working with Jupyter Notebooks $\\checkmark$\n",
    "2. Computing and arithmetic in R $\\checkmark$\n",
    "    + A comment about \"comments\" $\\checkmark$\n",
    "3. Working with \"names\" $\\checkmark$\n",
    "4. Types of Data $\\checkmark$\n",
    "5. Functions $\\checkmark$\n",
    "6. Lists $\\checkmark$"
   ]
  },
  {
   "cell_type": "markdown",
   "metadata": {
    "slideshow": {
     "slide_type": "-"
    }
   },
   "source": [
    "## Summary of new R functions\n",
    "Here's a brief summary of the new R functions we learned today.  You should be familiar with these functions and able to use them in labs and projects.\n",
    "\n",
    "You might want to add their descriptions down here as you review/study.  As you use these functions frequently in labs, projects, and homework, you will learn to remember and understand them and be more \"fluent\" in using them.\n",
    "\n",
    "+ General functions\n",
    "    + print()\n",
    "    + sqrt()\n",
    "    + abs()\n",
    "+ Functions for working with lists\n",
    "    + c()\n",
    "    + length()\n",
    "    + max()\n",
    "    + min()\n",
    "    + sum()\n",
    "    + mean()"
   ]
  },
  {
   "cell_type": "code",
   "execution_count": null,
   "metadata": {},
   "outputs": [],
   "source": []
  }
 ],
 "metadata": {
  "kernelspec": {
   "display_name": "R",
   "language": "R",
   "name": "ir"
  },
  "language_info": {
   "codemirror_mode": "r",
   "file_extension": ".r",
   "mimetype": "text/x-r-source",
   "name": "R",
   "pygments_lexer": "r",
   "version": "3.6.1"
  }
 },
 "nbformat": 4,
 "nbformat_minor": 2
}
