{
 "cells": [
  {
   "cell_type": "code",
   "execution_count": null,
   "metadata": {
    "slideshow": {
     "slide_type": "skip"
    }
   },
   "outputs": [],
   "source": [
    "# ignore the next two lines; these just make sure plots fit on the screen\n",
    "library('repr')\n",
    "options(repr.plot.width=3, repr.plot.height=3)"
   ]
  },
  {
   "cell_type": "code",
   "execution_count": 1,
   "metadata": {
    "slideshow": {
     "slide_type": "subslide"
    }
   },
   "outputs": [
    {
     "data": {
      "text/html": [
       "<table>\n",
       "<thead><tr><th scope=col>Name</th><th scope=col>Species</th><th scope=col>Weight_lb</th><th scope=col>Age</th><th scope=col>Spayed_Neutered</th></tr></thead>\n",
       "<tbody>\n",
       "\t<tr><td>Alex  </td><td>Cat   </td><td> 25   </td><td>8.5   </td><td> TRUE </td></tr>\n",
       "\t<tr><td>Bert  </td><td>Cat   </td><td> 15   </td><td>3.9   </td><td>FALSE </td></tr>\n",
       "\t<tr><td>Cate  </td><td>Dog   </td><td>100   </td><td>4.1   </td><td> TRUE </td></tr>\n",
       "\t<tr><td>Doug  </td><td>Cat   </td><td> 20   </td><td>3.0   </td><td> TRUE </td></tr>\n",
       "\t<tr><td>Evan  </td><td>Dog   </td><td> 20   </td><td>0.7   </td><td>FALSE </td></tr>\n",
       "\t<tr><td>Finn  </td><td>Rabbit</td><td>  4   </td><td>2.5   </td><td> TRUE </td></tr>\n",
       "\t<tr><td>Gregor</td><td>Rabbit</td><td>  2   </td><td>1.5   </td><td>FALSE </td></tr>\n",
       "\t<tr><td>Hummus</td><td>Rabbit</td><td>  5   </td><td>3.1   </td><td>FALSE </td></tr>\n",
       "\t<tr><td>Iliad </td><td>Rabbit</td><td>  3   </td><td>2.9   </td><td> TRUE </td></tr>\n",
       "\t<tr><td>Jamal </td><td>Rabbit</td><td>  1   </td><td>2.2   </td><td> TRUE </td></tr>\n",
       "</tbody>\n",
       "</table>\n"
      ],
      "text/latex": [
       "\\begin{tabular}{r|lllll}\n",
       " Name & Species & Weight\\_lb & Age & Spayed\\_Neutered\\\\\n",
       "\\hline\n",
       "\t Alex   & Cat    &  25    & 8.5    &  TRUE \\\\\n",
       "\t Bert   & Cat    &  15    & 3.9    & FALSE \\\\\n",
       "\t Cate   & Dog    & 100    & 4.1    &  TRUE \\\\\n",
       "\t Doug   & Cat    &  20    & 3.0    &  TRUE \\\\\n",
       "\t Evan   & Dog    &  20    & 0.7    & FALSE \\\\\n",
       "\t Finn   & Rabbit &   4    & 2.5    &  TRUE \\\\\n",
       "\t Gregor & Rabbit &   2    & 1.5    & FALSE \\\\\n",
       "\t Hummus & Rabbit &   5    & 3.1    & FALSE \\\\\n",
       "\t Iliad  & Rabbit &   3    & 2.9    &  TRUE \\\\\n",
       "\t Jamal  & Rabbit &   1    & 2.2    &  TRUE \\\\\n",
       "\\end{tabular}\n"
      ],
      "text/markdown": [
       "\n",
       "| Name | Species | Weight_lb | Age | Spayed_Neutered |\n",
       "|---|---|---|---|---|\n",
       "| Alex   | Cat    |  25    | 8.5    |  TRUE  |\n",
       "| Bert   | Cat    |  15    | 3.9    | FALSE  |\n",
       "| Cate   | Dog    | 100    | 4.1    |  TRUE  |\n",
       "| Doug   | Cat    |  20    | 3.0    |  TRUE  |\n",
       "| Evan   | Dog    |  20    | 0.7    | FALSE  |\n",
       "| Finn   | Rabbit |   4    | 2.5    |  TRUE  |\n",
       "| Gregor | Rabbit |   2    | 1.5    | FALSE  |\n",
       "| Hummus | Rabbit |   5    | 3.1    | FALSE  |\n",
       "| Iliad  | Rabbit |   3    | 2.9    |  TRUE  |\n",
       "| Jamal  | Rabbit |   1    | 2.2    |  TRUE  |\n",
       "\n"
      ],
      "text/plain": [
       "   Name   Species Weight_lb Age Spayed_Neutered\n",
       "1  Alex   Cat      25       8.5  TRUE          \n",
       "2  Bert   Cat      15       3.9 FALSE          \n",
       "3  Cate   Dog     100       4.1  TRUE          \n",
       "4  Doug   Cat      20       3.0  TRUE          \n",
       "5  Evan   Dog      20       0.7 FALSE          \n",
       "6  Finn   Rabbit    4       2.5  TRUE          \n",
       "7  Gregor Rabbit    2       1.5 FALSE          \n",
       "8  Hummus Rabbit    5       3.1 FALSE          \n",
       "9  Iliad  Rabbit    3       2.9  TRUE          \n",
       "10 Jamal  Rabbit    1       2.2  TRUE          "
      ]
     },
     "metadata": {},
     "output_type": "display_data"
    }
   ],
   "source": [
    "my_pets <- data.frame( Name = c('Alex', 'Bert', 'Cate', 'Doug', 'Evan', 'Finn', 'Gregor', 'Hummus', 'Iliad', 'Jamal') ,\n",
    "                       Species = c('Cat', 'Cat', 'Dog', 'Cat', 'Dog', 'Rabbit', 'Rabbit', 'Rabbit', 'Rabbit', 'Rabbit' ),\n",
    "                       Weight_lb = c(25, 15, 100, 20, 20, 4, 2, 5, 3, 1),\n",
    "                       Age = c( 8.5, 3.9, 4.1, 3, 0.7, 2.5, 1.5, 3.1, 2.9, 2.2 ),\n",
    "                       Spayed_Neutered = c( TRUE, FALSE, TRUE, TRUE, FALSE, TRUE, FALSE, FALSE, TRUE, TRUE  )\n",
    "                     )\n",
    "\n",
    "my_pets"
   ]
  },
  {
   "cell_type": "code",
   "execution_count": null,
   "metadata": {},
   "outputs": [],
   "source": [
    "library('ggplot2')"
   ]
  },
  {
   "cell_type": "code",
   "execution_count": null,
   "metadata": {
    "slideshow": {
     "slide_type": "subslide"
    }
   },
   "outputs": [],
   "source": []
  },
  {
   "cell_type": "markdown",
   "metadata": {
    "slideshow": {
     "slide_type": "slide"
    }
   },
   "source": [
    "# Lesson 8: Review\n",
    "\n",
    "Today:\n",
    "1. Review of Data Exploration and Visualization\n",
    "2. Review Exercises"
   ]
  },
  {
   "cell_type": "markdown",
   "metadata": {
    "slideshow": {
     "slide_type": "subslide"
    }
   },
   "source": [
    "## 2. Review Exercises\n",
    "\n",
    "Import the `babyweight.csv` dataset (currently located in `class_share/datasets/`) as an R data frame called `babyweight`.  This dataset contains the weights and gestation periods of babies of mothers who were smokers and non-smokers.\n",
    "\n",
    "**Question.** \n",
    "Does smoking during pregnancy have an effect on the weight and gestation period of the baby?\n",
    "\n",
    "Use any of the tools we have learned about to investigate this question."
   ]
  },
  {
   "cell_type": "code",
   "execution_count": null,
   "metadata": {},
   "outputs": [],
   "source": [
    "library('dplyr')"
   ]
  },
  {
   "cell_type": "code",
   "execution_count": null,
   "metadata": {
    "slideshow": {
     "slide_type": "subslide"
    }
   },
   "outputs": [],
   "source": [
    "babyweight <- read.csv(  )\n"
   ]
  },
  {
   "cell_type": "code",
   "execution_count": null,
   "metadata": {},
   "outputs": [],
   "source": []
  },
  {
   "cell_type": "code",
   "execution_count": null,
   "metadata": {},
   "outputs": [],
   "source": []
  },
  {
   "cell_type": "code",
   "execution_count": null,
   "metadata": {},
   "outputs": [],
   "source": []
  },
  {
   "cell_type": "markdown",
   "metadata": {
    "slideshow": {
     "slide_type": "slide"
    }
   },
   "source": [
    "## 2. Review Exercises\n",
    "\n",
    "Import the `berkeley73.csv` dataset (currently located in `class_share/datasets/`) as an R data frame called `berkeleydata`.  This dataset contains the admission data of six departments at UC Berkeley in 1973.\n",
    "\n",
    "**Questions.** \n",
    "1. What is the acceptance rate for each department, regardless of gender ?\n",
    "2. What is the overall acceptance rate (across all departments and all gender) ?\n",
    "3. Is there anything that we can conclude from these observations ?"
   ]
  },
  {
   "cell_type": "code",
   "execution_count": null,
   "metadata": {
    "slideshow": {
     "slide_type": "subslide"
    }
   },
   "outputs": [],
   "source": [
    "berkeleydata <- read.csv( ... ) #complete the path here to the berkeley73.csv file in the datasets folder\n",
    "\n",
    "# in previous lessons, we have added two more columns to this dataset, \n",
    "#   computing the admission rates for each of the two genders included in this dataset\n",
    "\n",
    "# we have included that here so that we can view this information as well.\n",
    "#  (recall that there is a second way to add new columns to a dataset, using the mutate() function from dplyr)\n",
    "berkeleydata$Men_AdmissionRate <- berkeleydata$Men_Admitted / berkeleydata$Men_Applicants\n",
    "berkeleydata$Women_AdmissionRate <- berkeleydata$Women_Admitted / berkeleydata$Women_Applicants"
   ]
  },
  {
   "cell_type": "code",
   "execution_count": null,
   "metadata": {},
   "outputs": [],
   "source": []
  },
  {
   "cell_type": "code",
   "execution_count": null,
   "metadata": {},
   "outputs": [],
   "source": []
  }
 ],
 "metadata": {
  "celltoolbar": "Slideshow",
  "kernelspec": {
   "display_name": "R",
   "language": "R",
   "name": "ir"
  },
  "language_info": {
   "codemirror_mode": "r",
   "file_extension": ".r",
   "mimetype": "text/x-r-source",
   "name": "R",
   "pygments_lexer": "r",
   "version": "3.6.1"
  }
 },
 "nbformat": 4,
 "nbformat_minor": 2
}
