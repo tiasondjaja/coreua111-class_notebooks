{
 "cells": [
  {
   "cell_type": "code",
   "execution_count": null,
   "metadata": {
    "slideshow": {
     "slide_type": "skip"
    }
   },
   "outputs": [],
   "source": [
    "# load the packages\n",
    "library('ggplot2')\n",
    "library('dplyr')\n",
    "\n",
    "# ignore the commands below; these just make sure plots fit on the screen\n",
    "library('repr')\n",
    "options(repr.plot.width=3, repr.plot.height=3)"
   ]
  },
  {
   "cell_type": "markdown",
   "metadata": {
    "slideshow": {
     "slide_type": "slide"
    }
   },
   "source": [
    "# Lesson 11: Model Assessments; Classification\n",
    "\n",
    "Today:\n",
    "1. Model Assessment\n",
    "    + Training and Test data\n",
    "    + Assessing the goodness of a regression model\n",
    "    + Overfitting\n",
    "2. Classification\n",
    "    + Classification vs. Regression\n",
    "    + Examples of classification tasks\n",
    "    + Hands-on example: cancer data\n",
    "        + Explore and visualize the training data\n",
    "        + Brainstorm a simple classification model"
   ]
  },
  {
   "cell_type": "markdown",
   "metadata": {
    "slideshow": {
     "slide_type": "slide"
    }
   },
   "source": [
    "## 1. Model Assessment\n",
    "\n",
    "## Example"
   ]
  },
  {
   "cell_type": "code",
   "execution_count": null,
   "metadata": {},
   "outputs": [],
   "source": [
    "babyweight <- read.csv('../../shared/datasets/babyweight.csv')\n",
    "\n",
    "dim(babyweight)\n",
    "head(babyweight)"
   ]
  },
  {
   "cell_type": "code",
   "execution_count": null,
   "metadata": {},
   "outputs": [],
   "source": [
    "# Split data into training and test\n",
    "#   use the first 16 rows for training: rows 1-16\n",
    "#   use the last 16 rows for testing: 17-32\n",
    "\n",
    "\n",
    "\n",
    "\n"
   ]
  },
  {
   "cell_type": "code",
   "execution_count": null,
   "metadata": {},
   "outputs": [],
   "source": [
    "ggplot( training_data  , aes( x = Gest , y = Wgt )  ) + \n",
    "    geom_point() + \n",
    "    geom_smooth( method = 'lm' , formula = 'y~x' , se = FALSE )\n",
    "\n",
    "cor( training_data$Gest , training_data$Wgt  )\n",
    "\n",
    "# find formula of best fit line\n",
    "linear_model <- lm(  formula = 'Wgt~Gest', data = training_data )\n",
    "\n",
    "b <- linear_model$coefficients[1]\n",
    "m <- linear_model$coefficients[2]\n",
    "print(b)\n",
    "print(m)"
   ]
  },
  {
   "cell_type": "code",
   "execution_count": null,
   "metadata": {},
   "outputs": [],
   "source": [
    "\n",
    "\n",
    "\n",
    "\n"
   ]
  },
  {
   "cell_type": "markdown",
   "metadata": {
    "slideshow": {
     "slide_type": "slide"
    }
   },
   "source": [
    "## 2. Classification\n",
    "\n",
    "### Example: Cancer Detection\n",
    "\n",
    "Question: Is this tumor benign or malignant (cancerous) ?\n",
    "\n",
    "We are given a labelled dataset:\n",
    "+ Each **observation** corresponds to a **tumor** detected in a patient\n",
    "+ Has several columns consisting of attributes/information about the tumor\n",
    "+ Has a column called `Class`:\n",
    "    + 0 indicates that the lump is not cancer\n",
    "    + 1 indicates that the lump is cancer"
   ]
  },
  {
   "cell_type": "markdown",
   "metadata": {
    "slideshow": {
     "slide_type": "fragment"
    }
   },
   "source": [
    "Our goal today:\n",
    "+ Split the dataset into training and test data\n",
    "+ Explore and visualize the training data\n",
    "+ Brainstorm a classification model"
   ]
  },
  {
   "cell_type": "code",
   "execution_count": null,
   "metadata": {
    "slideshow": {
     "slide_type": "fragment"
    }
   },
   "outputs": [],
   "source": [
    "cancerdata <- read.csv('../../shared/datasets/cancer.csv')\n",
    "\n",
    "dim(cancerdata)\n",
    "head(cancerdata)"
   ]
  },
  {
   "cell_type": "code",
   "execution_count": null,
   "metadata": {},
   "outputs": [],
   "source": []
  },
  {
   "cell_type": "markdown",
   "metadata": {},
   "source": [
    "Remarks:\n",
    "+ Unlike with linear regression, we cannot fit a straight line to predict the y value based on the x value!\n",
    "+ We need a new model / a new way of thinking about this prediction question"
   ]
  },
  {
   "cell_type": "code",
   "execution_count": null,
   "metadata": {},
   "outputs": [],
   "source": []
  },
  {
   "cell_type": "code",
   "execution_count": null,
   "metadata": {},
   "outputs": [],
   "source": []
  }
 ],
 "metadata": {
  "celltoolbar": "Slideshow",
  "kernelspec": {
   "display_name": "R",
   "language": "R",
   "name": "ir"
  },
  "language_info": {
   "codemirror_mode": "r",
   "file_extension": ".r",
   "mimetype": "text/x-r-source",
   "name": "R",
   "pygments_lexer": "r",
   "version": "3.6.1"
  }
 },
 "nbformat": 4,
 "nbformat_minor": 2
}
