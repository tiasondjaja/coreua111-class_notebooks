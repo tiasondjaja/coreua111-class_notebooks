{
 "cells": [
  {
   "cell_type": "markdown",
   "metadata": {},
   "source": [
    "# Our first jupyter notebook\n",
    "\n",
    "Hello!\n",
    "\n",
    "This is a quick demonstration of what a Jupyter Notebook looks like and what the process of working with data using R (a statistical programming language) looks like.\n",
    "\n",
    "In this demonstration, we work with a dataset consisting of UC Berkeley's 1973 graduate admission data for six departments, by gender.  In 1973, UC Berkeley was accused of a gender bias in its graduate admissions: that its admissions were skewed against women applicants.\n",
    "\n",
    "We hope to glean from the data whether UC Berkeley graduate admissions in 1973 were indeed biased against women.\n",
    "\n",
    "**The main goal today is to get a glimpse of the typical data exploration process using R that is involved in answering a question.  It's okay if you didn't catch all the details at the moment.**\n",
    "+ Filled out notes will be made available later.\n",
    "+ We'll do a more thorough introduction next class."
   ]
  },
  {
   "cell_type": "code",
   "execution_count": null,
   "metadata": {},
   "outputs": [],
   "source": [
    "# load a package (a \"toolbox\") called dplyr,\n",
    "#  which is helpful for working with data tables\n",
    "\n"
   ]
  },
  {
   "cell_type": "code",
   "execution_count": null,
   "metadata": {},
   "outputs": [],
   "source": [
    "# upload dataset of UC Berkeley graduate admissions in 1973\n",
    "\n",
    "\n"
   ]
  },
  {
   "cell_type": "code",
   "execution_count": null,
   "metadata": {},
   "outputs": [],
   "source": [
    "# Let's look at the content of the dataset and roughly examine the numbers.\n",
    "\n"
   ]
  },
  {
   "cell_type": "code",
   "execution_count": null,
   "metadata": {},
   "outputs": [],
   "source": [
    "# compute the total number of men and women applicants and \n",
    "#  the total number of men and women who were admitted\n",
    "\n",
    "total <- apply( berkeleydata[,-1], 2, function(x){sum(x)} )\n",
    "total"
   ]
  },
  {
   "cell_type": "code",
   "execution_count": null,
   "metadata": {},
   "outputs": [],
   "source": [
    "# Organize it in a nicer format\n",
    "\n",
    "berkeley_total <- data.frame( Applicants = c( total[[1]], total[[3]]), \n",
    "                              Admitted = c( total[[2]], total[[4]]) )\n",
    "rownames(berkeley_total) <- c('Men', 'Women')\n",
    "berkeley_total"
   ]
  },
  {
   "cell_type": "code",
   "execution_count": null,
   "metadata": {},
   "outputs": [],
   "source": [
    "# compute the percentage of admitted men (out of all men applicants) and\n",
    "#  that of admitted women (out of all women applicants)\n",
    "\n",
    "\n",
    "\n"
   ]
  },
  {
   "cell_type": "markdown",
   "metadata": {},
   "source": [
    "In the table above, we notice that the admission rate of women is only around 30% while the admission rate of men is almost 45%.  This might support the claim that there is a gender bias against women in UC Berkeley's graduate admissions in 1973.\n",
    "\n",
    "Are we done?\n",
    "\n",
    "Well, if we look at the original dataset, which we reproduce below, it seems at a glance that some departments actually admit a high percentage of women applicants."
   ]
  },
  {
   "cell_type": "code",
   "execution_count": null,
   "metadata": {},
   "outputs": [],
   "source": [
    "\n"
   ]
  },
  {
   "cell_type": "markdown",
   "metadata": {},
   "source": [
    "Let's compute the admission rate of men and women, but this time for each department individually."
   ]
  },
  {
   "cell_type": "code",
   "execution_count": null,
   "metadata": {},
   "outputs": [],
   "source": []
  },
  {
   "cell_type": "markdown",
   "metadata": {},
   "source": [
    "In fact, the admission rate for women is higher than the admission rate for men in four out of the six departments (A, B, D, and F) .  Furthermore, for the two remaining departments (C and E), the rates are comparable:\n",
    "+ In department C, 36.9% of men applicants were admitted and 34.1% of women applicants were admitted\n",
    "+ In department E, 27.7% of men applicants were admitted and 23.9% of women applicants were admitted\n",
    "It's also important to notice that department A seems to admit a much higher percentage of women than men.\n",
    "\n",
    "This seems to counter our previous observation when we look at the total numbers (as opposed to the numbers for each individual department)!!\n",
    "\n",
    "## Key takeaways from this exercise\n",
    "+ Sometimes a simple data analysis isn't enough to derive a definite conclusion.  More thorough analysis might be needed! <br><br>\n",
    "+ This dataset illustrates something called \"Simpson's Paradox\": We obtain one conclusion when we look at the dataset as a whole, but when we look at the data by group (e.g., by department), we obtain a different conclusion.\n",
    "    \n",
    "    If you are curious, see https://en.wikipedia.org/wiki/Simpson%27s_paradox for more on Simpson's Paradox!"
   ]
  },
  {
   "cell_type": "code",
   "execution_count": null,
   "metadata": {},
   "outputs": [],
   "source": []
  }
 ],
 "metadata": {
  "kernelspec": {
   "display_name": "R",
   "language": "R",
   "name": "ir"
  },
  "language_info": {
   "codemirror_mode": "r",
   "file_extension": ".r",
   "mimetype": "text/x-r-source",
   "name": "R",
   "pygments_lexer": "r",
   "version": "3.6.1"
  }
 },
 "nbformat": 4,
 "nbformat_minor": 2
}
