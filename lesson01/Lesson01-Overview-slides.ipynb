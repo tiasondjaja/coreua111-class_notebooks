{
 "cells": [
  {
   "cell_type": "markdown",
   "metadata": {
    "slideshow": {
     "slide_type": "slide"
    }
   },
   "source": [
    "# Welcome to CORE UA 111: From Data To Discovery!\n",
    "\n",
    "<b>Handout:</b> Syllabus + Calendar (pick up by the front entrance)\n",
    "\n",
    "<b>Warm-up Question \\& Icebreaker (do now!):</b><br>\n",
    "Fill out this survey: https://forms.gle/VLgiih4L4gsdYExi8 <br><br>\n",
    "\n",
    "<img src=\"images/qr-code-form.png\" width=175>\n",
    "\n",
    "Then, introduce yourself to a neighbor and chat about:\n",
    "+ What is \"data\"?  What is a \"model\"?\n",
    "+ Why are you taking this course?\n",
    "+ What do you think you will learn from this course that would be useful to you in, e.g. 10 years?"
   ]
  },
  {
   "cell_type": "markdown",
   "metadata": {
    "slideshow": {
     "slide_type": "slide"
    }
   },
   "source": [
    "**Mutiara (Tia) Sondjaja**<br>\n",
    "sondjaja@nyu.edu\n",
    "\n",
    "\n",
    "<img src=\"images/BioIntro3.jpg\" width=700>\n",
    "\n",
    "\n",
    "<!--\n",
    "<font color='gray' size=2>*Call me: Tia or Prof. Sondjaja (pronounced like \"Sonjaya\")*</font>\n",
    "-->\n",
    "\n",
    "Office: Warren Weaver Hall (WWH) 725<br>\n",
    "Office Hours\n",
    "+ Drop-in: See schedule on NYU Classes\n",
    "+ By appointment"
   ]
  },
  {
   "cell_type": "markdown",
   "metadata": {
    "slideshow": {
     "slide_type": "subslide"
    }
   },
   "source": [
    "### Teaching Assistants\n",
    "\n",
    "**Aparna Bhutani** and **Ziyi Ye**\n",
    "<img src=\"images/tas.jpg\" width=500>\n",
    "\n",
    "<table>\n",
    "    <tr>\n",
    "        <th>Teaching Assistant</th>\n",
    "        <th></th>\n",
    "        <th>Lab Sections</th>\n",
    "    <tr>\n",
    "        <td><b>Aparna Bhutani</b><br>ab8473@nyu.edu<br></td>\n",
    "        <td></td>\n",
    "        <td>Section 2: F 09:30-10:45AM, Silver 514<br>Section 3: F 11:00-12:15PM, Silver 518</td>\n",
    "    </tr>\n",
    "    <tr>\n",
    "        <td><b>Ziyi Ye</b><br>zy1617@nyu.edu<br></td>\n",
    "        <td></td>\n",
    "        <td>Section 4: F 09:30-10:45AM, Silver 501<br>Section 5: F 11:00-12:15PM, Silver 512</td>\n",
    "    </tr>\n",
    "<table>\n",
    "    "
   ]
  },
  {
   "cell_type": "markdown",
   "metadata": {
    "slideshow": {
     "slide_type": "subslide"
    }
   },
   "source": [
    "## What is this course about?  Why are you taking it?  What will you get out of it?"
   ]
  },
  {
   "cell_type": "markdown",
   "metadata": {
    "slideshow": {
     "slide_type": "fragment"
    }
   },
   "source": [
    "### Why are you taking it?\n",
    "Maybe...\n",
    "+ I'm required to take a QR course\n",
    "+ It works with my schedule\n",
    "+ It sounds interesting\n",
    "+ I want to know how data leads to discovery\n",
    "+ \"Data\", \"AI\", and \"Machine Learning\" are mentioned everywhere these days"
   ]
  },
  {
   "cell_type": "markdown",
   "metadata": {
    "slideshow": {
     "slide_type": "subslide"
    }
   },
   "source": [
    "### Why this course?\n",
    "\n",
    "1. **We are all consumers of data and technology.**  We better know something about how technology works and how our data are used.\n",
    "2. **Confidence in your ability to reason quantitatively**\n",
    "3. **Data and technology permeates all disciplines.**"
   ]
  },
  {
   "cell_type": "markdown",
   "metadata": {},
   "source": [
    "<img src=\"images/nyt_datajournalism.jpg\" width=600>\n",
    "\n",
    "https://www.nytimes.com/2019/11/13/technology/personaltech/data-journalism-economics.html"
   ]
  },
  {
   "cell_type": "markdown",
   "metadata": {
    "slideshow": {
     "slide_type": "subslide"
    }
   },
   "source": [
    "### What will you get out of it?\n",
    "\n",
    "#### 1. A better understanding of how data are used to gain insights about our world\n",
    "+ being a critical consumer of quantitative information\n",
    "+ having an understanding for how data are used in technology and decision making\n",
    "+ being aware of issues surrounding technology and data: privacy, data ethics \n",
    "\n",
    "#### 2. A set of modern quantitative skills\n",
    "+ introduction to basic programming ideas\n",
    "+ working with data using R and Jupyter Notebooks\n",
    "+ reasoning with quantitative information\n",
    "\n",
    "#### In 10 years....\n",
    "+ You might be using technical skills that grow out from your interest in this course.  Great!\n",
    "+ You might be in a non-technical profession and might not have used any of the technical skills from this class.  That's great as well! but I hope you will\n",
    "    + [be quantitatively empowered]\n",
    "    + [be a critical consumer of quantitative information]"
   ]
  },
  {
   "cell_type": "markdown",
   "metadata": {
    "slideshow": {
     "slide_type": "slide"
    }
   },
   "source": [
    "## Syllabus"
   ]
  },
  {
   "cell_type": "markdown",
   "metadata": {
    "slideshow": {
     "slide_type": "slide"
    }
   },
   "source": [
    "## Lesson 01: Overview\n",
    "\n",
    "Today:\n",
    "1. How data leads to insights\n",
    "2. Other examples of data\n",
    "3. The computational tools: R and Jupyter Notebooks"
   ]
  },
  {
   "cell_type": "markdown",
   "metadata": {
    "slideshow": {
     "slide_type": "slide"
    }
   },
   "source": [
    "## How data leads to insights\n",
    "\n",
    "**Example**\n",
    "<table>\n",
    "    <tr>\n",
    "        <td><img src=\"images/John_Snow.jpg\" width=200> </td>\n",
    "        <td><img src=\"images/Snow-cholera-map-1.jpg\" width=400></td>\n",
    "    </tr>\n",
    "</table>"
   ]
  },
  {
   "cell_type": "markdown",
   "metadata": {
    "slideshow": {
     "slide_type": "fragment"
    }
   },
   "source": [
    "source: https://en.wikipedia.org/wiki/John_Snow"
   ]
  },
  {
   "cell_type": "markdown",
   "metadata": {
    "slideshow": {
     "slide_type": "slide"
    }
   },
   "source": [
    "**Example**\n",
    "<img src=\"images/buzzfeednews_gentrification.png\" width=600>"
   ]
  },
  {
   "cell_type": "markdown",
   "metadata": {
    "slideshow": {
     "slide_type": "fragment"
    }
   },
   "source": [
    "https://www.buzzfeednews.com/article/lamvo/gentrification-complaints-311-new-york<br>\n",
    "https://github.com/BuzzFeedNews/2018-06-nyc-311-complaints-and-gentrification<br>\n",
    "https://data.cityofnewyork.us/Social-Services/311-Service-Requests-from-2010-to-Present/erm2-nwe9"
   ]
  },
  {
   "cell_type": "markdown",
   "metadata": {
    "slideshow": {
     "slide_type": "slide"
    }
   },
   "source": [
    "<img src=\"images/bigpicture.jpg\" width=800>"
   ]
  },
  {
   "cell_type": "markdown",
   "metadata": {
    "slideshow": {
     "slide_type": "slide"
    }
   },
   "source": [
    "## Examples of Data\n",
    "\n",
    "Survey data\n",
    "\n",
    "<table>\n",
    "    <tr>\n",
    "        <th>School</th>\n",
    "        <th>Year</th>\n",
    "        <th>Height</th>\n",
    "        <th>Favorite Ice Cream</th>\n",
    "        <th>Mac user?</th>\n",
    "    </tr>\n",
    "    <tr>\n",
    "        <td>CAS</td>\n",
    "        <td>First year</td>\n",
    "        <td>62</td>\n",
    "        <td>Strawberry</td>\n",
    "        <td>Yes</td>\n",
    "    </tr>\n",
    "    <tr>\n",
    "        <td>Tisch</td>\n",
    "        <td>Junior</td>\n",
    "        <td>71</td>\n",
    "        <td>Vanilla</td>\n",
    "        <td>No</td>\n",
    "    </tr>\n",
    "    <tr>\n",
    "        <td>Steinhardt</td>\n",
    "        <td>Junior</td>\n",
    "        <td>58</td>\n",
    "        <td>Cookies and creme</td>\n",
    "        <td>Yes</td>\n",
    "    </tr>\n",
    "</table>\n",
    "\n",
    "Data are often organized in table format:\n",
    "+ Each column is a **variable** (information of interest)\n",
    "+ Each row is an **observation** (or an **individual** or a **data point**)"
   ]
  },
  {
   "cell_type": "markdown",
   "metadata": {
    "slideshow": {
     "slide_type": "slide"
    }
   },
   "source": [
    "## Examples of Data: Polls\n",
    "\n",
    "<img src=\"images/polls_2016.jpg\" width=500>\n",
    "\n",
    "https://www.pewresearch.org/fact-tank/2016/11/09/why-2016-election-polls-missed-their-mark/"
   ]
  },
  {
   "cell_type": "markdown",
   "metadata": {
    "slideshow": {
     "slide_type": "slide"
    }
   },
   "source": [
    "## Examples of Data: Texts\n",
    "\n",
    "**The Word Choices That Explain Why Jane Austen Endures**<br>\n",
    "by Kathleen A. Flynn and Josh Katz\n",
    "\n",
    "<img src=\"images/janeausten_nytimes.png\" width=500>\n",
    "\n",
    "https://www.nytimes.com/2017/07/06/upshot/the-word-choices-that-explain-why-jane-austen-endures.html"
   ]
  },
  {
   "cell_type": "markdown",
   "metadata": {
    "slideshow": {
     "slide_type": "slide"
    }
   },
   "source": [
    "## Examples of Data: Images\n",
    "\n",
    "**Training computers to recognize handwritten digits**\n",
    "\n",
    "<img src=\"images/digitimageswithzenbrush-trainingset.jpg\" width=200><img src=\"images/digitimageswithzenbrush-testset.jpg\" width=200>\n",
    "\n",
    "https://mathematicaforprediction.wordpress.com/2013/08/26/classification-of-handwritten-digits/"
   ]
  },
  {
   "cell_type": "markdown",
   "metadata": {
    "slideshow": {
     "slide_type": "slide"
    }
   },
   "source": [
    "## Examples of Data: Images\n",
    "\n",
    "**Google (reverse) image search**\n",
    "+ Given an image, find similar images and other results related to the image"
   ]
  },
  {
   "cell_type": "markdown",
   "metadata": {
    "slideshow": {
     "slide_type": "slide"
    }
   },
   "source": [
    "## Examples of Data: Images\n",
    "\n",
    "<img src=\"images/npr_facebookfacialrecognition.png\" width=500>\n",
    "\n",
    "https://www.npr.org/sections/thetwo-way/2017/12/19/571954455/facebook-expands-use-of-facial-recognition-to-id-users-in-photos"
   ]
  },
  {
   "cell_type": "markdown",
   "metadata": {
    "slideshow": {
     "slide_type": "slide"
    }
   },
   "source": [
    "## Examples of Data: Consumer Information\n",
    "\n",
    "<img src=\"images/nyt_target.jpg\" width=500>\n",
    "\n",
    "https://www.nytimes.com/2012/02/19/magazine/shopping-habits.html"
   ]
  },
  {
   "cell_type": "markdown",
   "metadata": {
    "slideshow": {
     "slide_type": "slide"
    }
   },
   "source": [
    "## Data Privacy and Ethics\n",
    "\n",
    "<img src=\"images/forbes_target.jpg\" width=300>\n",
    "\n",
    "https://www.forbes.com/sites/kashmirhill/2012/02/16/how-target-figured-out-a-teen-girl-was-pregnant-before-her-father-did/\n",
    "https://www.kdnuggets.com/2014/05/target-predict-teen-pregnancy-inside-story.html"
   ]
  },
  {
   "cell_type": "markdown",
   "metadata": {
    "slideshow": {
     "slide_type": "slide"
    }
   },
   "source": [
    "## The computational tools: R and Jupyter Notebooks"
   ]
  },
  {
   "cell_type": "markdown",
   "metadata": {
    "slideshow": {
     "slide_type": "fragment"
    }
   },
   "source": [
    "+ **R is a \"statistical programming language\"**\n",
    "    + It allows us to work with data\n",
    "    + We will use it to introduce you to programming ideas\n",
    "    + (it's easier to pick up other programming languages once you know one)"
   ]
  },
  {
   "cell_type": "markdown",
   "metadata": {
    "slideshow": {
     "slide_type": "fragment"
    }
   },
   "source": [
    "+ **Jupyter Notebooks is a type of file.**\n",
    "    + It allows you to write texts/reports/slides (like a Word file or a PowerPoint file)\n",
    "    + and to write programs\n",
    "    + all in one file."
   ]
  },
  {
   "cell_type": "markdown",
   "metadata": {
    "slideshow": {
     "slide_type": "slide"
    }
   },
   "source": [
    "#### You don't have to install anything\n",
    "\n",
    "All of your work using Jupyter Notebooks will be done \"in the cloud\" on a JupyterHub:\n",
    "\n",
    "<center><a href=\"https://coreua-111.rcnyu.org\">https://coreua-111.rcnyu.org</a></center>\n",
    "\n",
    "**Login:** Your NYU Net ID and password"
   ]
  },
  {
   "cell_type": "markdown",
   "metadata": {
    "slideshow": {
     "slide_type": "slide"
    }
   },
   "source": [
    "Notes:\n",
    "+ Most of you have access to this site already.<br> <br>\n",
    "\n",
    "+ If you have just enrolled and do not yet have access to the site, please email me <br>with email subject \"Requesting access to FDTD Jupyter Hub\".<br> <br>\n",
    "\n",
    "+ If you later decide to drop the course, your access to the site will be also dropped.<br>"
   ]
  },
  {
   "cell_type": "markdown",
   "metadata": {
    "slideshow": {
     "slide_type": "subslide"
    }
   },
   "source": [
    "### Working with Jupyter Notebooks and R:  A Preview and Demonstration\n",
    "\n",
    "+ The files (including these slides) will be made available to you after class\n",
    "\n",
    "    Please see the Jupyter Notebook Lesson01-demonstration.ipynb on our JupyterHub for this demonstration file\n",
    "    \n",
    "    (Go to the folder class_share, under the lecture01 subfolder) <br><br>\n",
    "\n",
    "+ We will go through the steps in more detail starting next class!"
   ]
  },
  {
   "cell_type": "code",
   "execution_count": null,
   "metadata": {
    "slideshow": {
     "slide_type": "skip"
    }
   },
   "outputs": [],
   "source": []
  }
 ],
 "metadata": {
  "celltoolbar": "Slideshow",
  "kernelspec": {
   "display_name": "R",
   "language": "R",
   "name": "ir"
  },
  "language_info": {
   "codemirror_mode": "r",
   "file_extension": ".r",
   "mimetype": "text/x-r-source",
   "name": "R",
   "pygments_lexer": "r",
   "version": "3.5.1"
  }
 },
 "nbformat": 4,
 "nbformat_minor": 2
}
