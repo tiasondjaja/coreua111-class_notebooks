{
 "cells": [
  {
   "cell_type": "markdown",
   "metadata": {
    "slideshow": {
     "slide_type": "slide"
    }
   },
   "source": [
    "# Lesson 3: Exploring Data\n",
    "\n",
    "Today:\n",
    "1. Data frames\n",
    "    + Useful functions: `dim()`, `names()`, `head()`\n",
    "    + Getting datasets: (1) built-in datasets; (2) datasets in your computer or from the internet using `read.csv()`\n",
    "    + Accessing columns of a data frame\n",
    "    + Accessing entries of a data frame\n",
    "2. Working with data frames\n",
    "    +  Arithmetic with lists and columns\n",
    "    +  More useful functions: `sum()`, `length()`, `max()`, `min()`\n",
    "    +  Finding average of a column using `sum()` and `length()`; using `mean()`\n",
    "    +  Finding proportions/percentages"
   ]
  },
  {
   "cell_type": "markdown",
   "metadata": {
    "slideshow": {
     "slide_type": "slide"
    }
   },
   "source": [
    "## 1. Data Frames\n",
    "\n",
    "Data Frames are essentially what R calls **tables of data** (similar to Excel spreadsheets)."
   ]
  },
  {
   "cell_type": "markdown",
   "metadata": {
    "slideshow": {
     "slide_type": "subslide"
    }
   },
   "source": [
    "### 1.1. Built-In Datasets\n",
    "\n",
    "R comes with some datasets that are ready for us to explore.  They come in an R package called `datasets`.  \n",
    "\n",
    "\n",
    "\n",
    "At this point, this `datasets` package is a bit of a mystery.  What are in it?  "
   ]
  },
  {
   "cell_type": "markdown",
   "metadata": {
    "slideshow": {
     "slide_type": "fragment"
    }
   },
   "source": [
    "To find out further information about any R packages, you can type \n",
    "    \n",
    "    ? packagename\n",
    "and run the cell.  Try it below."
   ]
  },
  {
   "cell_type": "code",
   "execution_count": null,
   "metadata": {
    "slideshow": {
     "slide_type": "-"
    }
   },
   "outputs": [],
   "source": []
  },
  {
   "cell_type": "markdown",
   "metadata": {
    "slideshow": {
     "slide_type": "subslide"
    }
   },
   "source": [
    "You should see a message that you can find the list of all data sets by typing and running \n",
    "    \n",
    "    library(help = 'datasets')\n",
    "\n",
    "Do it in the following code cell."
   ]
  },
  {
   "cell_type": "code",
   "execution_count": null,
   "metadata": {
    "slideshow": {
     "slide_type": "-"
    }
   },
   "outputs": [],
   "source": [
    "\n"
   ]
  },
  {
   "cell_type": "markdown",
   "metadata": {
    "slideshow": {
     "slide_type": "subslide"
    }
   },
   "source": [
    "You will see that one such built-in datasets is the `faithful` dataset."
   ]
  },
  {
   "cell_type": "code",
   "execution_count": null,
   "metadata": {
    "slideshow": {
     "slide_type": "skip"
    }
   },
   "outputs": [],
   "source": []
  },
  {
   "cell_type": "code",
   "execution_count": null,
   "metadata": {
    "slideshow": {
     "slide_type": "-"
    }
   },
   "outputs": [],
   "source": [
    "\n",
    "\n"
   ]
  },
  {
   "cell_type": "markdown",
   "metadata": {
    "slideshow": {
     "slide_type": "subslide"
    }
   },
   "source": [
    "### 1.2. Useful functions for working with data frames\n",
    "\n",
    "As with lists, there are some basic functions that are useful for working with data frames.  These are:\n",
    "+ `dim( DATAFRAMENAME )`: to find the number of rows and columns in a data frame\n",
    "+ `names( DATAFRAMENAME )`: to find the column names of a data frame\n",
    "+ `head( DATAFRAMENAME )`: to preview the first few rows (ten) of a data frame.  \n",
    "    \n",
    "    If you want to see the first $n$ rows (where $n$ is any number of your choice), you can run `head(DATAFRAMENAME, n)`.\n",
    "\n",
    "Try these functions in the code cells below."
   ]
  },
  {
   "cell_type": "code",
   "execution_count": null,
   "metadata": {
    "slideshow": {
     "slide_type": "subslide"
    }
   },
   "outputs": [],
   "source": [
    "\n",
    "\n"
   ]
  },
  {
   "cell_type": "code",
   "execution_count": null,
   "metadata": {},
   "outputs": [],
   "source": [
    "\n"
   ]
  },
  {
   "cell_type": "markdown",
   "metadata": {
    "slideshow": {
     "slide_type": "subslide"
    }
   },
   "source": [
    "### 1.3. Importing a file from a directory in your computer or from the internet\n",
    "\n"
   ]
  },
  {
   "cell_type": "code",
   "execution_count": null,
   "metadata": {},
   "outputs": [],
   "source": []
  },
  {
   "cell_type": "code",
   "execution_count": null,
   "metadata": {},
   "outputs": [],
   "source": []
  },
  {
   "cell_type": "code",
   "execution_count": null,
   "metadata": {},
   "outputs": [],
   "source": []
  },
  {
   "cell_type": "markdown",
   "metadata": {
    "slideshow": {
     "slide_type": "subslide"
    }
   },
   "source": [
    "**Exercise**\n",
    "\n",
    "In the `/shared/datasets` folder, there is a file called `NYC_Dog_Licensing_small.csv`.\n",
    "\n",
    "In the code cell below, please import that dataset into an R data frame named `nyc_dogs`."
   ]
  },
  {
   "cell_type": "code",
   "execution_count": null,
   "metadata": {},
   "outputs": [],
   "source": [
    "nyc_dogs <-  "
   ]
  },
  {
   "cell_type": "code",
   "execution_count": null,
   "metadata": {},
   "outputs": [],
   "source": []
  },
  {
   "cell_type": "code",
   "execution_count": null,
   "metadata": {},
   "outputs": [],
   "source": []
  },
  {
   "cell_type": "code",
   "execution_count": null,
   "metadata": {},
   "outputs": [],
   "source": []
  },
  {
   "cell_type": "markdown",
   "metadata": {
    "slideshow": {
     "slide_type": "skip"
    }
   },
   "source": [
    "The above dataset comes from NYC Open Data, a site where the NYC government makes public data available.\n",
    "\n",
    "[The following is the description for the above dataset](https://data.cityofnewyork.us/Health/NYC-Dog-Licensing-Dataset/nu7n-tubp): \"All dog owners residing in NYC are required by law to license their dogs. The data is sourced from the DOHMH Dog Licensing System (https://a816-healthpsi.nyc.gov/DogLicense), where owners can apply for and renew dog licenses. Each record represents a unique dog license that was active during the year, but not necessarily a unique record per dog, since a license that is renewed during the year results in a separate record of an active license period. Each record stands as a unique license period for the dog over the course of the yearlong time frame.\"\n",
    "\n",
    "The original [NYC Dog Licensing dataset](https://data.cityofnewyork.us/Health/NYC-Dog-Licensing-Dataset/nu7n-tubp) datasets is very large (more than 300,000 rows of data).  The above smaller dataset contains 1000 randomly chosen rows from the original dataset."
   ]
  },
  {
   "cell_type": "markdown",
   "metadata": {
    "slideshow": {
     "slide_type": "subslide"
    }
   },
   "source": [
    "We could also import a csv file found directly from the internet using \n",
    "    \n",
    "    read.csv(  'LINK TO THE CSV FILE' )"
   ]
  },
  {
   "cell_type": "markdown",
   "metadata": {
    "slideshow": {
     "slide_type": "fragment"
    }
   },
   "source": [
    "**Example**<br>\n",
    "We will import a dataset from the NY State governement open data.  This page contains description of a dataset of a directory of criminal justice agencies: https://data.ny.gov/Public-Safety/Directory-of-Criminal-Justice-Agencies/gugp-n5ip\n",
    "\n",
    "+ Click on the above link\n",
    "+ Click on the `Export` button on that page\n",
    "+ Right click on the `CSV` button\n",
    "+ Choose \"copy link address\"\n",
    "\n",
    "Read the csv file linked from that address and store it as an R data frame called `criminal_justice_agencies`."
   ]
  },
  {
   "cell_type": "code",
   "execution_count": null,
   "metadata": {
    "slideshow": {
     "slide_type": "subslide"
    }
   },
   "outputs": [],
   "source": [
    "criminal_justice_agencies <-   \n",
    "\n"
   ]
  },
  {
   "cell_type": "code",
   "execution_count": null,
   "metadata": {},
   "outputs": [],
   "source": []
  },
  {
   "cell_type": "code",
   "execution_count": null,
   "metadata": {},
   "outputs": [],
   "source": []
  },
  {
   "cell_type": "markdown",
   "metadata": {
    "slideshow": {
     "slide_type": "subslide"
    }
   },
   "source": [
    "### 1.4. Accessing columns of a data frame\n",
    "\n",
    "Each column of a data frame is simply a list!  \n",
    "\n",
    "Given a data frame, to obtain a list containing just one of its columns is easy, and there are two ways to do this.  \n",
    "1. `DATAFRAMENAME$COLUMNNAME`: Gives you a list containing all entries in the column `COLUMNNAME` of the data frame `DATAFRAMENAME`\n",
    "2. `DATAFRAMENAME[, COLNUM ]`: Gives you a list containing all entries in column number `COLNUM` of the data frame `DATAFRAMENAME`"
   ]
  },
  {
   "cell_type": "code",
   "execution_count": null,
   "metadata": {
    "slideshow": {
     "slide_type": "fragment"
    }
   },
   "outputs": [],
   "source": [
    "\n",
    "\n"
   ]
  },
  {
   "cell_type": "code",
   "execution_count": null,
   "metadata": {
    "scrolled": true,
    "slideshow": {
     "slide_type": "-"
    }
   },
   "outputs": [],
   "source": [
    "\n",
    "\n"
   ]
  },
  {
   "cell_type": "code",
   "execution_count": null,
   "metadata": {},
   "outputs": [],
   "source": []
  },
  {
   "cell_type": "code",
   "execution_count": null,
   "metadata": {
    "slideshow": {
     "slide_type": "-"
    }
   },
   "outputs": [],
   "source": []
  },
  {
   "cell_type": "markdown",
   "metadata": {
    "slideshow": {
     "slide_type": "subslide"
    }
   },
   "source": [
    "### 1.5. Accessing an entry in a data frame\n",
    "\n",
    "There are also two ways to access an entry in a data frame\n",
    "1. `DATAFRAMENAME$COLUMNNAME[ ROWNUM ]`: To access an entry in row number `ROWNUM` and column called `COLUMNNAME`:\n",
    "2. `DATAFRAMENAME[ ROWNUM, COLNUM ]`: To access an entry in row number `ROWNUM` and column number `COLNUM`:"
   ]
  },
  {
   "cell_type": "markdown",
   "metadata": {
    "slideshow": {
     "slide_type": "subslide"
    }
   },
   "source": [
    "#### Example\n",
    "\n",
    "1. Find the name of the dog in the 327th row in the dataset `nyc_dogs`\n",
    "2. Find the zipcode of the dog in the 596th row in the dataset"
   ]
  },
  {
   "cell_type": "code",
   "execution_count": null,
   "metadata": {},
   "outputs": [],
   "source": []
  },
  {
   "cell_type": "code",
   "execution_count": null,
   "metadata": {},
   "outputs": [],
   "source": [
    "\n",
    "\n"
   ]
  },
  {
   "cell_type": "markdown",
   "metadata": {
    "slideshow": {
     "slide_type": "slide"
    }
   },
   "source": [
    "## 2. Working with data frames"
   ]
  },
  {
   "cell_type": "markdown",
   "metadata": {
    "slideshow": {
     "slide_type": "subslide"
    }
   },
   "source": [
    "### 2.1. Arithmetic with lists and columns\n",
    "\n",
    "Recall the data frame `berkeleydata` from before.  Suppose that we would like to compute the admission rates of men and women in each of the departments."
   ]
  },
  {
   "cell_type": "code",
   "execution_count": null,
   "metadata": {},
   "outputs": [],
   "source": []
  },
  {
   "cell_type": "code",
   "execution_count": null,
   "metadata": {
    "slideshow": {
     "slide_type": "fragment"
    }
   },
   "outputs": [],
   "source": [
    "\n",
    "\n",
    "\n",
    "\n",
    "\n"
   ]
  },
  {
   "cell_type": "markdown",
   "metadata": {
    "slideshow": {
     "slide_type": "subslide"
    }
   },
   "source": [
    "### 2.2. Adding a new column to a data frame\n",
    "\n",
    "    DATAFRAMENAME$NEWCOLUMNNAME <- list containing entries for the new column\n",
    "\n",
    "**Example**\n",
    "\n",
    "Suppose that we would like to create a new column called `Women_AdmissionRate` in the `berkeleydata` dataframe."
   ]
  },
  {
   "cell_type": "code",
   "execution_count": null,
   "metadata": {},
   "outputs": [],
   "source": [
    "\n",
    "\n",
    "\n"
   ]
  },
  {
   "cell_type": "code",
   "execution_count": null,
   "metadata": {},
   "outputs": [],
   "source": []
  },
  {
   "cell_type": "code",
   "execution_count": null,
   "metadata": {},
   "outputs": [],
   "source": []
  },
  {
   "cell_type": "code",
   "execution_count": null,
   "metadata": {},
   "outputs": [],
   "source": [
    "\n",
    "\n",
    "\n"
   ]
  },
  {
   "cell_type": "markdown",
   "metadata": {
    "slideshow": {
     "slide_type": "subslide"
    }
   },
   "source": [
    "**Exercise**<br>\n",
    "+ Create a new column called `Men_AdmissionRate`, which consists of the admission rate of men into each department\n",
    "+ Create a new column called `Total_Admitted`, which consists of the total number of men and women addmitted to each department.\n",
    "+ Create a new column called `Total_Applicants`, which consists of the total number of men and women addmitted to each department.\n",
    "+ Create a new column called `Overall_Admission_Rate`, which consists of the overal admission rate (men and women) admitted to each department."
   ]
  },
  {
   "cell_type": "code",
   "execution_count": null,
   "metadata": {},
   "outputs": [],
   "source": []
  },
  {
   "cell_type": "code",
   "execution_count": null,
   "metadata": {},
   "outputs": [],
   "source": []
  },
  {
   "cell_type": "code",
   "execution_count": null,
   "metadata": {},
   "outputs": [],
   "source": []
  },
  {
   "cell_type": "code",
   "execution_count": null,
   "metadata": {},
   "outputs": [],
   "source": []
  },
  {
   "cell_type": "markdown",
   "metadata": {
    "collapsed": true,
    "slideshow": {
     "slide_type": "subslide"
    }
   },
   "source": [
    "### 2.3. Finding sums and averages of a column\n",
    "\n",
    "Recall that the function `sum( LISTNAME )` takes the sum of the numbers in the list `LISTNAME`.\n",
    "\n",
    "Since a column in a data frame is simply a list, we can use `sum()` for a column of a data frame."
   ]
  },
  {
   "cell_type": "markdown",
   "metadata": {
    "slideshow": {
     "slide_type": "fragment"
    }
   },
   "source": [
    "**Example**<br>\n",
    "Compute the total number of admitted women across the six departments."
   ]
  },
  {
   "cell_type": "code",
   "execution_count": null,
   "metadata": {
    "slideshow": {
     "slide_type": "-"
    }
   },
   "outputs": [],
   "source": []
  },
  {
   "cell_type": "code",
   "execution_count": null,
   "metadata": {},
   "outputs": [],
   "source": []
  },
  {
   "cell_type": "markdown",
   "metadata": {
    "collapsed": true,
    "slideshow": {
     "slide_type": "subslide"
    }
   },
   "source": [
    "We can do arithmetic operations to columns of a data frame.\n",
    "\n",
    "**Example**<br>\n",
    "Compute the average number of admitted women across the six departments."
   ]
  },
  {
   "cell_type": "code",
   "execution_count": null,
   "metadata": {},
   "outputs": [],
   "source": [
    "\n",
    "\n"
   ]
  },
  {
   "cell_type": "code",
   "execution_count": null,
   "metadata": {},
   "outputs": [],
   "source": [
    "\n"
   ]
  }
 ],
 "metadata": {
  "celltoolbar": "Slideshow",
  "kernelspec": {
   "display_name": "R",
   "language": "R",
   "name": "ir"
  },
  "language_info": {
   "codemirror_mode": "r",
   "file_extension": ".r",
   "mimetype": "text/x-r-source",
   "name": "R",
   "pygments_lexer": "r",
   "version": "3.5.1"
  }
 },
 "nbformat": 4,
 "nbformat_minor": 2
}
