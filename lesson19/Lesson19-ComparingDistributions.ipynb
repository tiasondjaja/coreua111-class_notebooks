{
 "cells": [
  {
   "cell_type": "code",
   "execution_count": null,
   "metadata": {
    "slideshow": {
     "slide_type": "subslide"
    }
   },
   "outputs": [],
   "source": [
    "# load the packages\n",
    "library('ggplot2')\n",
    "library('dplyr')\n",
    "\n",
    "# ignore the commands below; these just make sure plots fit on the screen\n",
    "library('repr')\n",
    "options(repr.plot.width=4, repr.plot.height=4)"
   ]
  },
  {
   "cell_type": "markdown",
   "metadata": {
    "slideshow": {
     "slide_type": "slide"
    }
   },
   "source": [
    "# Lesson 19: Comparing Distributions\n",
    "\n",
    "\n",
    "Today:\n",
    "1. A quick review of statistical models (big picture)\n",
    "2. Hypothesis Testing: Comparing Distributions\n",
    "    + Distribution as a statistical model\n",
    "    + Hypothesis testing to assess \"goodness\" of the model\n",
    "        + Hypothesis: data follows a particular distribution (model)\n",
    "        + Test: does the data indeed follow this particular distribution?  Is there enough evidence from data to reject this hypothesis?\n",
    "        + Statistic: Distance between data and model\n",
    "    + Testing using simulations"
   ]
  },
  {
   "cell_type": "markdown",
   "metadata": {
    "slideshow": {
     "slide_type": "subslide"
    }
   },
   "source": [
    "### Example 1: Mendel's Model"
   ]
  },
  {
   "cell_type": "markdown",
   "metadata": {
    "slideshow": {
     "slide_type": "subslide"
    }
   },
   "source": [
    "**Scenario 1:**\n",
    "\n",
    "Mendel's Hypothesis: 75% of pea flowers are purple\n",
    "\n",
    "Actual Data: 100 plants, 72% of the plants are purple-flowering\n",
    "\n",
    "Do we reject Mendel's hypothesis?"
   ]
  },
  {
   "cell_type": "code",
   "execution_count": null,
   "metadata": {
    "slideshow": {
     "slide_type": "fragment"
    }
   },
   "outputs": [],
   "source": [
    "# Simulate Mendel's Hypothesis\n",
    "# Procedure:\n",
    "#   Repeat the following 1000 times:\n",
    "#      1. Generate sample of 100 plants: with 75% probability purple and 25% white\n",
    "#      2. Count how many purple flowers and white flowers are actually generated\n",
    "#      3. Sum the differences from 75 and 25 (in absolute value), respectively.  This is the distance to the model\n",
    "#      4. Store this sum of differences in a data frame\n",
    "\n",
    "simulated_data_df <- data.frame( matrix( nrow = 1000, ncol = 3))\n",
    "names(simulated_data_df) <- c('fraction_purple', 'fraction_white', 'distance')\n",
    "\n",
    "\n",
    "\n",
    "\n"
   ]
  },
  {
   "cell_type": "code",
   "execution_count": null,
   "metadata": {
    "scrolled": false
   },
   "outputs": [],
   "source": []
  },
  {
   "cell_type": "code",
   "execution_count": null,
   "metadata": {
    "slideshow": {
     "slide_type": "subslide"
    }
   },
   "outputs": [],
   "source": [
    "\n"
   ]
  },
  {
   "cell_type": "code",
   "execution_count": null,
   "metadata": {},
   "outputs": [],
   "source": []
  },
  {
   "cell_type": "code",
   "execution_count": null,
   "metadata": {},
   "outputs": [],
   "source": []
  },
  {
   "cell_type": "markdown",
   "metadata": {
    "slideshow": {
     "slide_type": "fragment"
    }
   },
   "source": [
    "**Question**: Out of the 1000 simulated data, how many of them are **closer to the model** than the actual data is to the model?"
   ]
  },
  {
   "cell_type": "markdown",
   "metadata": {
    "slideshow": {
     "slide_type": "fragment"
    }
   },
   "source": [
    "That is, if the distance from our actual data to the model is 0.06, **what percentile** would this be among the simulated data?"
   ]
  },
  {
   "cell_type": "markdown",
   "metadata": {
    "slideshow": {
     "slide_type": "fragment"
    }
   },
   "source": [
    "+ Sort the simulated data's list of distances from smallest to largest\n",
    "+ Count how many of the simulated data have distance less than 0.06.\n",
    "+ Divide by total number of simulated data."
   ]
  },
  {
   "cell_type": "code",
   "execution_count": null,
   "metadata": {},
   "outputs": [],
   "source": []
  },
  {
   "cell_type": "code",
   "execution_count": null,
   "metadata": {},
   "outputs": [],
   "source": []
  },
  {
   "cell_type": "code",
   "execution_count": null,
   "metadata": {},
   "outputs": [],
   "source": []
  },
  {
   "cell_type": "code",
   "execution_count": null,
   "metadata": {},
   "outputs": [],
   "source": []
  },
  {
   "cell_type": "code",
   "execution_count": null,
   "metadata": {},
   "outputs": [],
   "source": []
  },
  {
   "cell_type": "code",
   "execution_count": null,
   "metadata": {
    "scrolled": true,
    "slideshow": {
     "slide_type": "subslide"
    }
   },
   "outputs": [],
   "source": []
  },
  {
   "cell_type": "markdown",
   "metadata": {
    "slideshow": {
     "slide_type": "subslide"
    }
   },
   "source": [
    "**Scenario 2:**\n",
    "\n",
    "Mendel's Hypothesis: 75% of pea flowers are purple\n",
    "\n",
    "Actual Data: 63% of flowers are purple\n",
    "\n",
    "Do we reject Mendel's hypothesis?\n",
    "\n",
    "<table>\n",
    "    <tr>\n",
    "        <th></th>\n",
    "        <th>Model</th>\n",
    "        <th>Data</th>\n",
    "        <th>Difference (absolute value) </th>\n",
    "    </tr>\n",
    "    <tr>\n",
    "        <td>Purple</td>\n",
    "        <td>0.75</td>\n",
    "        <td>0.63</td>\n",
    "        <td>|0.75 - 0.63| = 0.12</td>\n",
    "    </tr>\n",
    "    <tr>\n",
    "        <td>White</td>\n",
    "        <td>0.25</td>\n",
    "        <td>0.37</td>        \n",
    "        <td>|0.25 - 0.37| = 0.12</td>\n",
    "    </tr>\n",
    "    <tr>\n",
    "        <td><b>Distance</b></td>\n",
    "        <td> </td>\n",
    "        <td> </td>        \n",
    "        <td> 0.24</td>\n",
    "    </tr>\n",
    "</table>"
   ]
  },
  {
   "cell_type": "code",
   "execution_count": null,
   "metadata": {
    "scrolled": true,
    "slideshow": {
     "slide_type": "subslide"
    }
   },
   "outputs": [],
   "source": [
    "\n",
    "\n"
   ]
  },
  {
   "cell_type": "code",
   "execution_count": null,
   "metadata": {},
   "outputs": [],
   "source": []
  },
  {
   "cell_type": "code",
   "execution_count": null,
   "metadata": {},
   "outputs": [],
   "source": []
  },
  {
   "cell_type": "code",
   "execution_count": null,
   "metadata": {},
   "outputs": [],
   "source": []
  },
  {
   "cell_type": "code",
   "execution_count": null,
   "metadata": {},
   "outputs": [],
   "source": []
  },
  {
   "cell_type": "code",
   "execution_count": null,
   "metadata": {},
   "outputs": [],
   "source": []
  },
  {
   "cell_type": "markdown",
   "metadata": {
    "slideshow": {
     "slide_type": "slide"
    }
   },
   "source": [
    "## Comparing Models and Data\n",
    "\n",
    "### Example 2: Racial and Ethnic Disparity in Manhattan Jury Pools\n",
    "\n",
    "\n",
    "<img src=\"images/lec15_jury.png\" width=\"400\">\n",
    "\n",
    "\n",
    "Sources:\n",
    "+ https://ppefny.org/2007/06/racial-and-ethnic-disparity-in-manhattan-jury-pools-results-of-a-survey-and-suggestions-for-reform/474\n",
    "+ https://ppefny.org/wp-content/uploads/2007/06/200706RJJuryPoolStudy.pdf\n",
    "\n",
    "Other reading/references: https://www.nytimes.com/2007/06/27/nyregion/27jurors.html"
   ]
  },
  {
   "cell_type": "markdown",
   "metadata": {
    "slideshow": {
     "slide_type": "subslide"
    }
   },
   "source": [
    "\"Both federal and state laws seek to ensure equal representation by mandating trial by **jury selected at random from a “fair cross section of the community\"**.\""
   ]
  },
  {
   "cell_type": "markdown",
   "metadata": {
    "slideshow": {
     "slide_type": "subslide"
    }
   },
   "source": [
    "<img src=\"images/lec15_jury3.png\" width=\"550\">"
   ]
  },
  {
   "cell_type": "code",
   "execution_count": null,
   "metadata": {
    "slideshow": {
     "slide_type": "subslide"
    }
   },
   "outputs": [],
   "source": [
    "# do not change this code cell\n",
    "jurydata2 <- data.frame( proportion = c(54.4, 17.4, 9.5, 18.8, 77.7, 10.1, 6.5, 5.7), \n",
    "                    description = c('% in census', '% in census', '% in census', '% in census', '% in jury pool', '% in jury pool', '% in jury pool', '% in jury pool'), \n",
    "                    group = c('white', 'black', 'asian', 'other', 'white', 'black', 'asian', 'other'))\n",
    "\n",
    "library(tidyverse)\n",
    "jurydata1 <- spread(jurydata2, description, proportion)"
   ]
  },
  {
   "cell_type": "code",
   "execution_count": null,
   "metadata": {},
   "outputs": [],
   "source": [
    "jurydata1"
   ]
  },
  {
   "cell_type": "code",
   "execution_count": null,
   "metadata": {},
   "outputs": [],
   "source": [
    "jurydata2\n",
    "# create bar plot, for the proprtion of each group, with fill = type\n",
    "ggplot(jurydata2, aes( x = group, y = proportion, fill = description )) + geom_col( position='dodge')"
   ]
  },
  {
   "cell_type": "markdown",
   "metadata": {
    "slideshow": {
     "slide_type": "fragment"
    }
   },
   "source": [
    "#### Question: Is there a racial and ethnic disparity in jury selection in Manhattan?\n",
    "\n",
    "+ Model: Jury panels **are representative** of Manhattan's racial and ethnic diversity.\n",
    "+ Alternative viewpoint: **No**, jury panels **are not representative** of Manhattan's racial and ethnic diversity."
   ]
  },
  {
   "cell_type": "code",
   "execution_count": null,
   "metadata": {
    "slideshow": {
     "slide_type": "subslide"
    }
   },
   "outputs": [],
   "source": [
    "jurydata1"
   ]
  },
  {
   "cell_type": "code",
   "execution_count": null,
   "metadata": {
    "slideshow": {
     "slide_type": "subslide"
    }
   },
   "outputs": [],
   "source": [
    "# add a column to compute distance between model and data\n",
    "\n"
   ]
  },
  {
   "cell_type": "code",
   "execution_count": null,
   "metadata": {
    "slideshow": {
     "slide_type": "fragment"
    }
   },
   "outputs": [],
   "source": [
    "\n"
   ]
  },
  {
   "cell_type": "markdown",
   "metadata": {
    "slideshow": {
     "slide_type": "subslide"
    }
   },
   "source": [
    "#### Approach\n",
    "1. Suppose that the model is true, \n",
    "    + SIMULATE: generate data based on the model\n",
    "    + compute distances between simulated data and the model\n",
    "2. Compare: (1) Distance from actual data to model with (2) Distances from simulated data to model"
   ]
  },
  {
   "cell_type": "code",
   "execution_count": null,
   "metadata": {},
   "outputs": [],
   "source": []
  },
  {
   "cell_type": "code",
   "execution_count": null,
   "metadata": {
    "slideshow": {
     "slide_type": "subslide"
    }
   },
   "outputs": [],
   "source": [
    "num_simulations <- \n",
    "num_jurors <- \n",
    "\n",
    "\n",
    "simulated_data_df <- data.frame( matrix(nrow = num_simulations, ncol = 5) )\n",
    "colnames(simulated_data_df) <- c('white', 'black', 'asian', 'other', 'distance')\n",
    "\n",
    "\n",
    "\n"
   ]
  },
  {
   "cell_type": "code",
   "execution_count": null,
   "metadata": {},
   "outputs": [],
   "source": []
  },
  {
   "cell_type": "code",
   "execution_count": null,
   "metadata": {},
   "outputs": [],
   "source": []
  },
  {
   "cell_type": "code",
   "execution_count": null,
   "metadata": {},
   "outputs": [],
   "source": []
  },
  {
   "cell_type": "code",
   "execution_count": null,
   "metadata": {},
   "outputs": [],
   "source": []
  },
  {
   "cell_type": "markdown",
   "metadata": {
    "slideshow": {
     "slide_type": "fragment"
    }
   },
   "source": [
    "#### Conclusions from this study?\n",
    "\n",
    "+ Assuming that the study used reliable data, the study seems to provide an evidence against the viewpoint that the jury pool is representative.\n",
    "+ However, whether this is a reliable evidence depends on the quality of the data.\n",
    "    + How was the data collected?\n",
    "    + Was this a representative sample?  Was there a bias in the data or how it was collected?\n",
    "    + etc."
   ]
  },
  {
   "cell_type": "markdown",
   "metadata": {},
   "source": [
    "https://www.nytimes.com/2007/06/27/nyregion/27jurors.html"
   ]
  },
  {
   "cell_type": "code",
   "execution_count": null,
   "metadata": {},
   "outputs": [],
   "source": []
  }
 ],
 "metadata": {
  "celltoolbar": "Slideshow",
  "kernelspec": {
   "display_name": "R",
   "language": "R",
   "name": "ir"
  },
  "language_info": {
   "codemirror_mode": "r",
   "file_extension": ".r",
   "mimetype": "text/x-r-source",
   "name": "R",
   "pygments_lexer": "r",
   "version": "3.6.1"
  }
 },
 "nbformat": 4,
 "nbformat_minor": 2
}
