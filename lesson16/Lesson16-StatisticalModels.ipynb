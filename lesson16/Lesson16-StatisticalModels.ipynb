{
 "cells": [
  {
   "cell_type": "code",
   "execution_count": null,
   "metadata": {
    "slideshow": {
     "slide_type": "subslide"
    }
   },
   "outputs": [],
   "source": [
    "# load the packages\n",
    "library('ggplot2')\n",
    "library('dplyr')\n",
    "\n",
    "# ignore the commands below; these just make sure plots fit on the screen\n",
    "library('repr')\n",
    "options(repr.plot.width=4, repr.plot.height=4)"
   ]
  },
  {
   "cell_type": "markdown",
   "metadata": {
    "slideshow": {
     "slide_type": "slide"
    }
   },
   "source": [
    "# Lesson 16: Statistical Models\n",
    "\n",
    "Today:\n",
    "1. What are statistical models?\n",
    "    + Differences/similarities from previous models we have seen\n",
    "    + Statistical Inference\n",
    "        + Drawing conclusion about model/population from a sample\n",
    "        + Random sampling with and without replacement\n",
    "2. Randomness\n",
    "3. Simulations of Random Events\n",
    "4. Understanding results of simulations\n",
    "    + Summary tables and visualizations\n",
    "    + Visualizing probability distributions"
   ]
  },
  {
   "cell_type": "markdown",
   "metadata": {
    "slideshow": {
     "slide_type": "subslide"
    }
   },
   "source": [
    "## 3. Simulations of Random Events, using R\n",
    "\n",
    "**Summary**\n",
    "\n",
    "To simulate sampling `N` times from `LISTOFOUTCOMES` where each outcome has the same probability of being chosen:\n",
    "\n",
    "    sample( LISTOFOUTCOMES, N )\n",
    "    sample( LISTOFOUTCOMES, N, replace = TRUE )\n",
    "    sample( LISTOFOUTCOMES, N, replace = FALSE )\n",
    "    sample( LISTOFOUTCOMES, N, replace = FALSE, prob = LISTOFPROBABILITIES )"
   ]
  },
  {
   "cell_type": "markdown",
   "metadata": {
    "slideshow": {
     "slide_type": "subslide"
    }
   },
   "source": [
    "### Example: Tossing a fair coin\n",
    "\n",
    "For example: To simulate one coin flip, we want to get either 'Heads' or 'Tails'.  So, the first input to sample will be the list `c('Heads', 'Tails')` and the second input will be 1 (because there is only one outcome to each coin flip):"
   ]
  },
  {
   "cell_type": "code",
   "execution_count": null,
   "metadata": {
    "slideshow": {
     "slide_type": "fragment"
    }
   },
   "outputs": [],
   "source": []
  },
  {
   "cell_type": "code",
   "execution_count": null,
   "metadata": {
    "scrolled": true,
    "slideshow": {
     "slide_type": "fragment"
    }
   },
   "outputs": [],
   "source": []
  },
  {
   "cell_type": "markdown",
   "metadata": {},
   "source": [
    "### Example: Outcomes of three coin tosses"
   ]
  },
  {
   "cell_type": "code",
   "execution_count": null,
   "metadata": {
    "slideshow": {
     "slide_type": "fragment"
    }
   },
   "outputs": [],
   "source": []
  },
  {
   "cell_type": "code",
   "execution_count": null,
   "metadata": {
    "slideshow": {
     "slide_type": "fragment"
    }
   },
   "outputs": [],
   "source": []
  },
  {
   "cell_type": "markdown",
   "metadata": {
    "slideshow": {
     "slide_type": "subslide"
    }
   },
   "source": [
    "### Example: Tossing an \"unfair\" coin\n",
    "\n",
    "Suppose that we want to simulate a coin for which there is a greater probability of getting Heads than Tails.  For instance, suppose that we want to get Heads about 70% of the time and Tails 30% of the time."
   ]
  },
  {
   "cell_type": "code",
   "execution_count": null,
   "metadata": {
    "slideshow": {
     "slide_type": "subslide"
    }
   },
   "outputs": [],
   "source": []
  },
  {
   "cell_type": "code",
   "execution_count": null,
   "metadata": {
    "slideshow": {
     "slide_type": "fragment"
    }
   },
   "outputs": [],
   "source": []
  },
  {
   "cell_type": "markdown",
   "metadata": {
    "slideshow": {
     "slide_type": "slide"
    }
   },
   "source": [
    "## 4. Understanding Results of Simulations"
   ]
  },
  {
   "cell_type": "markdown",
   "metadata": {},
   "source": [
    "### Summary Table and Visualization of Simulations Results"
   ]
  },
  {
   "cell_type": "markdown",
   "metadata": {
    "slideshow": {
     "slide_type": "fragment"
    }
   },
   "source": [
    "In the previous example, we simulated rolling a die 1200 times.  What we want to know might be: how many times does each possible outcome actually come up we get a 1?  2? etc.\n",
    "\n",
    "It would be great if we can create a summary table that tells us precisely that!"
   ]
  },
  {
   "cell_type": "code",
   "execution_count": null,
   "metadata": {},
   "outputs": [],
   "source": []
  },
  {
   "cell_type": "code",
   "execution_count": null,
   "metadata": {
    "scrolled": true,
    "slideshow": {
     "slide_type": "subslide"
    }
   },
   "outputs": [],
   "source": []
  },
  {
   "cell_type": "code",
   "execution_count": null,
   "metadata": {
    "slideshow": {
     "slide_type": "subslide"
    }
   },
   "outputs": [],
   "source": []
  },
  {
   "cell_type": "code",
   "execution_count": null,
   "metadata": {
    "slideshow": {
     "slide_type": "subslide"
    }
   },
   "outputs": [],
   "source": []
  },
  {
   "cell_type": "code",
   "execution_count": null,
   "metadata": {
    "slideshow": {
     "slide_type": "subslide"
    }
   },
   "outputs": [],
   "source": []
  },
  {
   "cell_type": "markdown",
   "metadata": {
    "slideshow": {
     "slide_type": "slide"
    }
   },
   "source": [
    "## Visualizing Probability Distributions\n",
    "\n",
    "Note that the height of bar charts (and histograms) reflect **how likely** it is to observe each possible value.  The higher the bar, the more likely it is to observe that value."
   ]
  },
  {
   "cell_type": "code",
   "execution_count": null,
   "metadata": {
    "slideshow": {
     "slide_type": "fragment"
    }
   },
   "outputs": [],
   "source": []
  },
  {
   "cell_type": "markdown",
   "metadata": {
    "slideshow": {
     "slide_type": "slide"
    }
   },
   "source": [
    "### Activity 1\n",
    "\n",
    "Simulate 1000 coin flips using a coin whose probability of Heads is 85% and whose Tails probability is 15%.  Then, \n",
    "1. create a summary table that lists the number of Tails and the number of Heads, and\n",
    "2. create a bar chart the visualizes the above counts."
   ]
  },
  {
   "cell_type": "code",
   "execution_count": null,
   "metadata": {},
   "outputs": [],
   "source": []
  },
  {
   "cell_type": "code",
   "execution_count": null,
   "metadata": {},
   "outputs": [],
   "source": []
  },
  {
   "cell_type": "code",
   "execution_count": null,
   "metadata": {},
   "outputs": [],
   "source": []
  },
  {
   "cell_type": "markdown",
   "metadata": {
    "slideshow": {
     "slide_type": "slide"
    }
   },
   "source": [
    "### Activity 2\n",
    "\n",
    "Suppose that you have two 6-sided dice.  You would like to see **the distribution** of the sum of the two dice.\n",
    "\n",
    "Simulate tossing two 6-sided dice 1000 times.  Then,\n",
    "1. create a summary table that lists the outcome of each die and their sum, and\n",
    "2. create a bar chart the visualizes the above counts.\n",
    "\n",
    "What value is most common?  What value is least common?"
   ]
  },
  {
   "cell_type": "code",
   "execution_count": null,
   "metadata": {},
   "outputs": [],
   "source": []
  },
  {
   "cell_type": "code",
   "execution_count": null,
   "metadata": {},
   "outputs": [],
   "source": []
  }
 ],
 "metadata": {
  "celltoolbar": "Slideshow",
  "kernelspec": {
   "display_name": "R",
   "language": "R",
   "name": "ir"
  },
  "language_info": {
   "codemirror_mode": "r",
   "file_extension": ".r",
   "mimetype": "text/x-r-source",
   "name": "R",
   "pygments_lexer": "r",
   "version": "3.6.1"
  }
 },
 "nbformat": 4,
 "nbformat_minor": 2
}
